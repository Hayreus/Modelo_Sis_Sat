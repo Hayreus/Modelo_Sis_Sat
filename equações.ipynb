{
  "cells": [
    {
      "cell_type": "markdown",
      "metadata": {
        "id": "Lz-vow1i_snH"
      },
      "source": [
        "#POSIÇÃO GLOBAL\n",
        "\n",
        "$$\\large \\Psi = 2R \\left\\{ \\frac{\\pi}{2} - \\eta - \\sin^{-1} \\left[ \\frac{R}{R+h} \\cos \\eta \\right] \\right\\}$$\n",
        "\n",
        "  - $\\Psi$: representa o ângulo de cobertura.\n",
        "  - $R$: é o raio médio da Terra.\n",
        "  - $h$: é a altitude do satélite.\n",
        "  - $\\eta$: é o ângulo de elevação mínimo.\n",
        "\n",
        "  "
      ]
    },
    {
      "cell_type": "code",
      "execution_count": null,
      "metadata": {
        "id": "sx01TOO1MpHf"
      },
      "outputs": [],
      "source": [
        "import math\n",
        "\n",
        "def calcular_psi(R, h, eta):\n",
        "    termo1 = 2 * R * (math.pi / 2)\n",
        "    termo2 = 2 * R * (-eta)\n",
        "    termo3 = 2 * R * math.asin((R / (R + h)) * math.cos(eta))\n",
        "    psi = termo1 + termo2 + termo3\n",
        "    \n",
        "    return psi"
      ]
    },
    {
      "cell_type": "markdown",
      "metadata": {
        "id": "XMGwvlanETv_"
      },
      "source": [
        " $$\\large \\beta = \\frac{2\\psi}{\\left( 2n +1 \\right)}$$\n",
        "   - $\\beta$: é o ângulo de cobertura de cada célula.\n",
        "   - $n$:  é o número de células hexagonais."
      ]
    },
    {
      "cell_type": "code",
      "execution_count": null,
      "metadata": {
        "id": "WEkSZPoAEa_0"
      },
      "outputs": [],
      "source": [
        "def calcular_beta(psi, n):\n",
        "    beta = (2 * psi) / (2 * n + 1)\n",
        "    \n",
        "    return beta"
      ]
    },
    {
      "cell_type": "markdown",
      "metadata": {
        "id": "nfbCJYKdQ8y1"
      },
      "source": [
        "$$\\large N_{c}=1+\\frac{6n(n+1)}{2}$$\n",
        "\n",
        "   - $N_c$: representa o número de feixes pontuais."
      ]
    },
    {
      "cell_type": "code",
      "execution_count": null,
      "metadata": {
        "id": "KZvoQdYuQ9Ma"
      },
      "outputs": [],
      "source": [
        "def calcular_Nc(n):\n",
        "    Nc = 1 + (6 * n * (n + 1)) / 2\n",
        "    \n",
        "    return Nc"
      ]
    },
    {
      "cell_type": "markdown",
      "metadata": {
        "id": "vgDw6G5jRmsW"
      },
      "source": [
        " $$\\large \\frac{\\theta_0}{2} = \\tan^{-1}\\left(\\frac{R\\sin(\\beta/2)}{h+R-R\\cos(\\beta/2)}\\right)$$\n",
        "  \n",
        "   - $\\theta_0$: é a largura do feixe da célula central."
      ]
    },
    {
      "cell_type": "code",
      "execution_count": null,
      "metadata": {
        "id": "ZQk7RGuHRo5H"
      },
      "outputs": [],
      "source": [
        "\n",
        "def calcular_theta_0_2(R, h, beta):\n",
        "    numerador = R * math.sin(beta / 2)\n",
        "    denominador = h + R - R * math.cos(beta / 2)\n",
        "    theta_0_2 = math.atan2(numerador, denominador)\n",
        "    \n",
        "    return theta_0_2"
      ]
    },
    {
      "cell_type": "markdown",
      "metadata": {
        "id": "tlJLAry_SO19"
      },
      "source": [
        "$$\\large \\theta_n = \\tan^{-1}\\left[ \\frac{R\\sin\\left\\{ (2n+1)\\beta/2 \\right\\}}{h+R-R\\cos\\left\\{ (2n+1) \\beta/2 \\right\\}} \\right] - \\sum_{k=1}^{n-1} \\theta_k - \\frac{\\theta_0}{2}$$\n",
        "   \n",
        "- $\\theta_n$: é a largura do feixe da enésima coroa.\n",
        "- $R$: Raio médio da Terra.\n",
        "- $h$: Altitude do satélite.\n",
        "- $\\eta$: Ângulo de elevação mínimo.\n",
        "- $n$: Número de células hexagonais.\n",
        "- $\\beta$: Ângulo de cobertura de cada célula.\n",
        "- $N_c$: Número de feixes pontuais.\n",
        "- $\\theta_0$: Largura do feixe da célula central.\n",
        "- $\\theta_n$: Largura do feixe da enésima coroa."
      ]
    },
    {
      "cell_type": "code",
      "execution_count": null,
      "metadata": {
        "id": "PZ_MFsE-SPMP"
      },
      "outputs": [],
      "source": [
        "def calcular_theta_n(R, h, beta, n):\n",
        "    # Termo 1: R * sin((2n+1)beta/2)\n",
        "    termo1 = R * math.sin((2 * n + 1) * beta / 2)\n",
        "\n",
        "    # Termo 2: h + R - R * cos((2n+1)beta/2)\n",
        "    termo2 = h + R - R * math.cos((2 * n + 1) * beta / 2)\n",
        "\n",
        "    # Calcula theta_n usando a fórmula fornecida\n",
        "    theta_n = math.atan2(termo1, termo2)\n",
        "\n",
        "    # Calcula a soma dos termos anteriores: Σθ_k\n",
        "    soma_theta_k = sum(math.atan2(R * math.sin((2 * k + 1) * beta / 2), h + R - R * math.cos((2 * k + 1) * beta / 2)) for k in range(1, n))\n",
        "\n",
        "    # Termo 3: θ_0/2\n",
        "    termo3 = calcular_theta_0_2(R, h, beta)\n",
        "\n",
        "    # Subtrai os termos anteriores da fórmula principal\n",
        "    theta_n -= (soma_theta_k + termo3)\n",
        "\n",
        "    return theta_n\n"
      ]
    },
    {
      "cell_type": "markdown",
      "metadata": {
        "id": "I7JOJie8TCOz"
      },
      "source": [
        "# MODELO GLOBAL\n",
        "\n",
        "\\begin{cases} g_{t} = \\dfrac {2\\pi - (2\\pi -\\theta)\\delta }{ \\theta },\\\\ g_{s} = \\delta, \\end{cases}\n",
        "\n",
        "- $g_{t}$: Ganho do lóbulo principal.\n",
        "- $g_{s}$: Ganho do lóbulo lateral.\n",
        "- $\\theta$: largura do feixe da antena.\n",
        "- $\\delta$: largura do feixe da antena."
      ]
    },
    {
      "cell_type": "code",
      "execution_count": null,
      "metadata": {
        "id": "dsImD82vTCnb"
      },
      "outputs": [],
      "source": [
        "def calcular_gs_gt(theta, delta):\n",
        "    # Calcula g_t usando a primeira equação\n",
        "    gt = (2 * math.pi - (2 * math.pi - theta) * delta) / theta\n",
        "\n",
        "    # Calcula g_s usando a segunda equação\n",
        "    gs = delta\n",
        "\n",
        "    return gs, gt"
      ]
    },
    {
      "cell_type": "markdown",
      "metadata": {
        "id": "a1q3KrwFUUzj"
      },
      "source": [
        "$$\\large \\gamma _{k,m} = \\frac {p_{k,m} *g_{t} *g^{ru}_{k} *L_{k}}{ I^{i}_{k,m}+I^{d}_{k,m}+N_{0}*W}$$\n",
        "\n",
        "- $\\gamma_{k,m}$: Relação sinal-ruído (SNR) para o $k$-ésimo usuário e o $m$-ésimo canal.\n",
        "- $p_{k,m}$: Potência transmitida pelo $k$-ésimo usuário no $m$-ésimo canal.\n",
        "- $g_{t}$: Ganho do canal de transmissão.\n",
        "- $g^{ru}_{k}$: Ganho do receptor do $k$-ésimo usuário.\n",
        "- $L_{k}$: Perdas de propagação do $k$-ésimo usuário.\n",
        "- $I^{i}_{k,m}$: Interferência intrausuário para o $k$-ésimo usuário e $m$-ésimo canal.\n",
        "- $I^{d}_{k,m}$: Interferência interusuário para o $k$-ésimo usuário e $m$-ésimo canal.\n",
        "- $N_{0}$: Densidade espectral de ruído AWGN.\n",
        "- $W$: Largura de banda do canal."
      ]
    },
    {
      "cell_type": "code",
      "execution_count": null,
      "metadata": {
        "id": "qHipV7vdUVHZ"
      },
      "outputs": [],
      "source": [
        "\n",
        "def calcular_gamma(p_km, gt, g_ru_k, L_k, I_i_k_m, I_d_k_m, N_0, W):\n",
        "    gamma_k_m = (p_km * gt * g_ru_k * L_k) / (I_i_k_m + I_d_k_m + N_0 * W)\n",
        "\n",
        "    return gamma_k_m"
      ]
    },
    {
      "cell_type": "markdown",
      "metadata": {
        "id": "ZTb3UqdWV9DW"
      },
      "source": [
        "$$\\large I^{i}_{k,m} = g_{s} g^{ru}_{k} L_{k} \\sum \\limits _{m'\\neq m} \\sum \\limits _{k'\\neq k} p_{k',m'} x_{k',m'}$$\n",
        "- \\(I^{i}_{k,m}\\): Interferência intrausuário para o \\(k\\)-ésimo usuário e \\(m\\)-ésimo canal.\n",
        "\n",
        "- $g_{s}$: Ganho do transmissor.\n",
        "\n",
        "- $g^{ru}_{k}$: Ganho do receptor do $k$-ésimo usuário.\n",
        "\n",
        "- $L_{k}$: Perdas de propagação do $k$-ésimo usuário.\n",
        "\n",
        "- $\\sum \\limits _{m'\\neq m} \\sum \\limits _{k'\\neq k} p_{k',m'} x_{k',m'}$: A soma dos produtos da potência transmitida $p_{k',m'}$ pelo $k'$-ésimo usuário no $m'$-ésimo canal e a alocação de recursos $x_{k',m'}$, excluindo o $m$-ésimo canal e o $k$-ésimo usuário. $x_{k',m'}$ é uma variável binária que indica a atribuição do feixe."
      ]
    },
    {
      "cell_type": "code",
      "execution_count": null,
      "metadata": {
        "id": "EVm0TtuuV9iG"
      },
      "outputs": [],
      "source": [
        "def calcular_I_i_k_m(gs, g_ru_k, L_k, p, x):\n",
        "    # Inicializa o valor de I_i_k_m\n",
        "    I_i_k_m = 0\n",
        "\n",
        "    # Loop sobre todos os índices m' e k'\n",
        "    for m_prime in range(len(x)):\n",
        "        for k_prime in range(len(x[0])):\n",
        "            if m_prime != m and k_prime != k:\n",
        "                # Adiciona o termo ao somatório\n",
        "                I_i_k_m += p[k_prime][m_prime] * x[k_prime][m_prime]\n",
        "\n",
        "    # Multiplica pelos fatores restantes da equação\n",
        "    I_i_k_m *= gs * g_ru_k * L_k\n",
        "\n",
        "    return I_i_k_m"
      ]
    },
    {
      "cell_type": "markdown",
      "metadata": {
        "id": "j8ZAWxI_W19N"
      },
      "source": [
        "$$\\large I^{d}_{k,m} = p_{k,m} g_{t} g^{ru}_{k} L_{k} (1-\\text {sinc}^{2}(f_{k} T_{s}))$$\n",
        "\n",
        "- $I^{d}_{k,m}$: Interferência interusuário para o $k$-ésimo usuário e $m$-ésimo canal.\n",
        "\n",
        "- $p_{k,m}$: Potência transmitida pelo $k$-ésimo usuário no $m$-ésimo canal.\n",
        "\n",
        "- $g_{t}$: Ganho do canal de transmissão.\n",
        "\n",
        "- $g^{ru}_{k}$: Ganho do receptor do $k$-ésimo usuário.\n",
        "\n",
        "- $L_{k}$: Perdas de propagação do $k$-ésimo usuário.\n",
        "\n",
        "- $\\text {sinc}$: Função sinc.\n",
        "\n",
        "- $f_{k}$: Frequência desviada associada ao $k$-ésimo usuário, calculada usando a velocidade $v$, a frequência da portadora $f_{c}$, a velocidade da luz $c$, e o ângulo $\\phi_{k}$.\n",
        "\n",
        "- $T_{s}$: Período de símbolo."
      ]
    },
    {
      "cell_type": "code",
      "execution_count": null,
      "metadata": {
        "id": "9SL1aRuaW2bh"
      },
      "outputs": [],
      "source": [
        "\n",
        "def calcular_I_d_k_m(p_km, gt, g_ru_k, L_k, f_k, T_s):\n",
        "    sinc_term = math.sin(math.pi * f_k * T_s) / (math.pi * f_k * T_s) if f_k * T_s != 0 else 1\n",
        "    I_d_k_m = p_km * gt * g_ru_k * L_k * (1 - sinc_term**2)\n",
        "\n",
        "    return I_d_k_m"
      ]
    },
    {
      "cell_type": "markdown",
      "metadata": {
        "id": "TuDEsBrVZPC-"
      },
      "source": [
        "$$\\large f_{k} = \\frac {v f_{c}}{c} \\cos \\phi _{k}$$\n",
        "\n",
        "- $f_{k}$: Frequência desviada associada ao \\(k\\)-ésimo usuário.\n",
        "- $v$: Velocidade do satélite.\n",
        "- $f_{c}$: Frequência da portadora.\n",
        "- $c$: Velocidade da luz no vácuo.\n",
        "- $\\cos \\phi_{k}$: Cosseno do ângulo de desvio $\\phi_{k}$"
      ]
    },
    {
      "cell_type": "code",
      "execution_count": null,
      "metadata": {
        "id": "pztcitNkZPbu"
      },
      "outputs": [],
      "source": [
        "def calcular_f_k(v, f_c, c, phi_k):\n",
        "    f_k = (v * f_c / c) * math.cos(phi_k)\n",
        "\n",
        "    return f_k"
      ]
    },
    {
      "cell_type": "markdown",
      "metadata": {
        "id": "Nj5-nOdMaFuB"
      },
      "source": [
        "$$\\large R_{k} = \\sum \\limits _{m=1}^{M} W \\log _{2} (1+ \\gamma _{k,m}) x_{k,m}$$\n",
        "\n",
        "- $R_{k}$: a taxa de soma alcançável do utilizador\\(k\\)-ésimo usuário em todos os feixes.\n",
        "- $W$: Largura de banda do canal.\n",
        "- $\\log_{2}$: Logaritmo na base 2.\n",
        "- $\\gamma_{k,m}$: Relação sinal-ruído (SNR) para o $k$-ésimo usuário e \\(m\\)-ésimo canal.\n",
        "- $x_{k,m}$: Alocação de recursos do $k$-ésimo usuário no $m$-ésimo canal."
      ]
    },
    {
      "cell_type": "code",
      "execution_count": null,
      "metadata": {
        "id": "84D9Yhe_aGDY"
      },
      "outputs": [],
      "source": [
        "def calcular_R_k(gamma, W, x):\n",
        "    # Inicializa o valor de R_k\n",
        "    R_k = 0\n",
        "\n",
        "    # Loop sobre todos os índices m\n",
        "    for m in range(len(x[0])):\n",
        "        # Adiciona o termo ao somatório\n",
        "        R_k += W * math.log2(1 + gamma[m]) * x[m]\n",
        "\n",
        "    return R_k"
      ]
    },
    {
      "cell_type": "markdown",
      "metadata": {
        "id": "N_NGYDVrafch"
      },
      "source": [
        "$$\\large P_{a} = \\frac {1}{\\rho } \\sum \\limits _{k=1}^{K} \\sum \\limits _{m=1}^{M} p_{k,m} x_{k,m}$$\n",
        "\n",
        "- $P_{a}$: Potência total transmitida.\n",
        "- $\\rho$: Fator de eficiência da potência.\n",
        "- $p_{k,m}$: Potência transmitida pelo $k$-ésimo usuário no $m$-ésimo canal.\n",
        "- $x_{k,m}$: Alocação de recursos do $k$-ésimo usuário no $m$-ésimo canal."
      ]
    },
    {
      "cell_type": "code",
      "execution_count": null,
      "metadata": {
        "id": "bnHn_RMQafxv"
      },
      "outputs": [],
      "source": [
        "\n",
        "def calcular_Pa(p, x):\n",
        "    # Inicializa o valor de Pa\n",
        "    Pa = 0\n",
        "\n",
        "    # Loop sobre todos os índices k e m\n",
        "    for k in range(len(x)):\n",
        "        for m in range(len(x[0])):\n",
        "            # Adiciona o termo ao somatório\n",
        "            Pa += p[k][m] * x[k][m]\n",
        "\n",
        "    # Divide pelo fator de escala (1/ρ)\n",
        "    Pa /= len(x) * len(x[0])\n",
        "\n",
        "    return Pa"
      ]
    },
    {
      "cell_type": "markdown",
      "metadata": {
        "id": "xJzd8bnFbPwh"
      },
      "source": [
        "$$\\large P_{\\text {tot}} = P_{c} + P_{a}$$\n",
        "\n",
        "- $P_{\\text {tot}}$: Potência total do sistema.\n",
        "- $P_{c}$: Potência consumida pelo canal.\n",
        "- $P_{a}$: Potência total transmitida."
      ]
    },
    {
      "cell_type": "code",
      "execution_count": null,
      "metadata": {
        "id": "8GSIRiSSbQK1"
      },
      "outputs": [],
      "source": [
        "\n",
        "def calcular_Ptot(Pc, Pa):\n",
        "    Ptot = Pc + Pa\n",
        "    \n",
        "    return Ptot"
      ]
    },
    {
      "cell_type": "markdown",
      "metadata": {
        "id": "-1yWOKfFbVC6"
      },
      "source": [
        "$$\\large I_{b} = g_{s} g_{b} L_{b} \\sum \\limits _{m=1}^{M} \\sum \\limits _{k=1}^{K} x_{k,m} p_{k,m}$$\n",
        "\n",
        "- $I_{b}$: Alguma forma de interferência no sistema.\n",
        "- $g_{s}$: Ganho do transmissor.\n",
        "- $g_{b}$: Ganho do receptor.\n",
        "- $L_{b}$: Perdas de propagação.\n",
        "- $x_{k,m}$: Alocação de recursos do $k$-ésimo usuário no $m$-ésimo canal.\n",
        "- $p_{k,m}$: Potência transmitida pelo $k$-ésimo usuário no $m$-ésimo canal."
      ]
    },
    {
      "cell_type": "code",
      "execution_count": null,
      "metadata": {
        "id": "0VId3oU3bVo0"
      },
      "outputs": [],
      "source": [
        "\n",
        "def calcular_Ib(gs, gb, Lb, p, x):\n",
        "    # Inicializa o valor de Ib\n",
        "    Ib = 0\n",
        "\n",
        "    # Loop sobre todos os índices k e m\n",
        "    for k in range(len(x)):\n",
        "        for m in range(len(x[0])):\n",
        "            # Adiciona o termo ao somatório\n",
        "            Ib += x[k][m] * p[k][m]\n",
        "\n",
        "    # Multiplica pelos fatores restantes da equação\n",
        "    Ib *= gs * gb * Lb\n",
        "\n",
        "    return Ib"
      ]
    },
    {
      "cell_type": "markdown",
      "metadata": {},
      "source": [
        "$$\\begin{equation*} \\eta (\\mathbf {X}, \\mathbf {P}) = \\frac {\\sum \\limits _{k=1}^{K} R_{k}}{P_{c} + \\frac {1}{\\rho } \\sum \\limits _{k=1}^{K} \\sum \\limits _{m=1}^{M} p_{k,m} x_{k,m} },\\tag{10}\\end{equation*}$$\n",
        "\n",
        "\n",
        "- $X$: Matriz de dimension K×M com elementos $x[k][m]$ representando a alocação de usuários em feixes.\n",
        "- $P$: Vetor de tamanho M com elementos $p[m]$ representando a alocação de potência para cada feixe.\n",
        "- $R_k$: Valores de $R_k$\n",
        "- $pc$: Constante representando um valor fixo.\n",
        "- $\\rho$: Constante representando um valor fixo.\n",
        "- $p$: Matriz de $p$\n",
        "- $x$: Matriz de $x$\n",
        "- $K$: Conjunto de todos os $K$ usuários.\n",
        "- $M$: Conjunto de todos os $M$ feixes.\n",
        "\n"
      ]
    },
    {
      "cell_type": "code",
      "execution_count": null,
      "metadata": {},
      "outputs": [],
      "source": [
        "def eta(X, P, R, pc, rho, p, x):\n",
        "    numerator = sum(R)\n",
        "    denominator = pc + (1 / rho) * sum(sum(p[k][m] * x[k][m] for m in range(len(x[0]))) for k in range(len(x)))\n",
        "    \n",
        "    return numerator / denominator"
      ]
    },
    {
      "cell_type": "markdown",
      "metadata": {
        "id": "wcukFLA7cbv4"
      },
      "source": [
        "  $$\\large \\cos \\Theta = \\left({{{\\cos }^2}(\\Delta L/2) - {{\\cos }^2}\\alpha \\cdot{{\\sin }^2}(\\Delta L/2)}\\right)\\cos (\\Delta u) \\\\ - \\cos \\alpha \\sin (\\Delta L)\\sin (\\Delta u) \\\\ - {\\sin ^2}\\alpha {\\sin ^2}(\\Delta L/2)\\cos \\left({2{u_1}(t) + \\Delta u}\\right)$$\n",
        "   \n",
        "  \n",
        "1. $\\cos \\Theta$: Representa o cosseno do ângulo \\(\\Theta\\), que está sendo calculado.\n",
        "\n",
        "2. ${{\\cos }^2}(\\Delta L/2) - {{\\cos }^2}\\alpha \\cdot{{\\sin }^2}(\\Delta L/2)$: Esta parte está relacionada à diferença de quadrados envolvendo $\\cos (\\Delta L/2)$ e $\\cos \\alpha \\cdot \\sin (\\Delta L/2)$.\n",
        "\n",
        "3. $\\cos (\\Delta u)$: Multiplicado pela primeira parte, contribuindo para a componente de cosseno na direção de $\\Delta u$.\n",
        "\n",
        "4. $- \\cos \\alpha \\sin (\\Delta L)\\sin (\\Delta u)$: Uma componente que envolve $\\sin$ e $\\cos$ e está relacionada ao ângulo $\\alpha$.\n",
        "\n",
        "5. $- {\\sin ^2}\\alpha {\\sin ^2}(\\Delta L/2)\\cos \\left({2{u_1}(t) + \\Delta u}\\right)$: Esta é uma parte mais complexa que envolve \\$sin$ e $\\cos$ e depende do tempo $t$."
      ]
    },
    {
      "cell_type": "code",
      "execution_count": null,
      "metadata": {
        "id": "e07IBMsmccIw"
      },
      "outputs": [],
      "source": [
        "\n",
        "def calcular_cos_Theta(Delta_L, alpha, Delta_u, u1_t):\n",
        "    cos_Theta = (math.cos(Delta_L/2)**2 - math.cos(alpha)**2 * math.sin(Delta_L/2)**2) * math.cos(Delta_u)\n",
        "    cos_Theta -= math.cos(alpha) * math.sin(Delta_L) * math.sin(Delta_u)\n",
        "    cos_Theta -= math.sin(alpha)**2 * math.sin(Delta_L/2)**2 * math.cos(2*u1_t + Delta_u)\n",
        "\n",
        "    return cos_Theta\n"
      ]
    },
    {
      "cell_type": "markdown",
      "metadata": {
        "id": "WGlslIHFcoq1"
      },
      "source": [
        " $$\\large d = 2\\left({{R_E} + {h_s}}\\right)\\sin (\\Theta /2)$$\n",
        "\n",
        "   Esta equação está relacionada à distância $d$ e envolve o raio da Terra $R_E$, a altura da sonda $h_s$, e o ângulo $\\Theta$. Aqui estão as variáveis:\n",
        "\n",
        "   - $d$: Representa a distância da sonda ao ponto de observação na Terra.\n",
        "   - $R_E$: É o raio da Terra.\n",
        "   - $h_s$: É a altura da sonda acima da superfície da Terra.\n",
        "   - $\\Theta$: É o ângulo polar, que provavelmente está relacionado à localização angular da sonda em relação ao ponto de observação na Terra."
      ]
    },
    {
      "cell_type": "code",
      "execution_count": null,
      "metadata": {
        "id": "PCKZRpL_co7N"
      },
      "outputs": [],
      "source": [
        "\n",
        "def calcular_d(R_E, h_s, Theta):\n",
        "    d = 2 * (R_E + h_s) * math.sin(Theta / 2)\n",
        "    \n",
        "    return d\n"
      ]
    },
    {
      "cell_type": "markdown",
      "metadata": {
        "id": "Mv7_sJkpc07c"
      },
      "source": [
        "$$\\large d = \\sqrt 2 \\left({{R_E} + {h_s}}\\right)\\sqrt {1 - \\cos \\Theta }$$\n",
        "   \n",
        "   Nesta equação, temos novamente a distância $d$ em termos do raio da Terra $R_E$, altura da sonda $h_s$, e ângulo $\\Theta$. Aqui estão as variáveis:\n",
        "\n",
        "   - $d$: Representa a distância da sonda ao ponto de observação na Terra.\n",
        "   - $R_E$: É o raio da Terra.\n",
        "   - $h_s$: É a altura da sonda acima da superfície da Terra.\n",
        "   - $\\Theta$: É o ângulo polar, semelhante à equação anterior."
      ]
    },
    {
      "cell_type": "code",
      "execution_count": null,
      "metadata": {
        "id": "rWsXBxJec1P9"
      },
      "outputs": [],
      "source": [
        "\n",
        "def calcular_d(R_E, h_s, Theta):\n",
        "    d = math.sqrt(2) * (R_E + h_s) * math.sqrt(1 - math.cos(Theta))\n",
        "    \n",
        "    return d\n"
      ]
    },
    {
      "cell_type": "markdown",
      "metadata": {
        "id": "quzYavQCc_8S"
      },
      "source": [
        "$$\\large El = - \\Theta /2\\\\ Az = \\arctan \\left({{X_{Az}}/{Y_{Az}}}\\right)$$\n",
        "\n",
        "- $El$: Representa a elevação. Neste contexto, parece ser a elevação de algum ponto em relação a um plano de referência, e ela é definida como $- \\Theta /2$. Isso sugere que a elevação é metade do ângulo polar negativo $\\Theta$.\n",
        "\n",
        "- $Az$: Representa o azimute. O azimute é a direção angular de um ponto em relação ao norte, geralmente medido no plano horizontal. Aqui, é calculado usando a função arco tangente $(\\arctan$) de $\\frac{{X_{Az}}}{{Y_{Az}}}$.\n",
        "   \n",
        "- $X_{Az}$ e $Y_{Az}$: São componentes relacionados à coordenada azimutal. A interpretação específica de $X_{Az}$ e $Y_{Az}$ dependerá do contexto do problema. Geralmente, $X_{Az}$ e $Y_{Az}$ são componentes cartesianos em alguma representação polar ou azimutal."
      ]
    },
    {
      "cell_type": "code",
      "execution_count": null,
      "metadata": {
        "id": "jKP97qUVdAUF"
      },
      "outputs": [],
      "source": [
        "\n",
        "def calcular_El(Theta):\n",
        "    El = -Theta / 2\n",
        "    \n",
        "    return El"
      ]
    },
    {
      "cell_type": "markdown",
      "metadata": {
        "id": "otcmEcOldDde"
      },
      "source": [
        "$${X_{Az}} = \\sin \\alpha \\cdot\\sin (\\Delta L)\\cdot\\cos \\left({{u_1}(t) + \\Delta u}\\right)  - \\sin (2\\alpha )\\cdot{\\sin ^2}(\\Delta L/2)\\cdot\\sin \\left({{u_1}(t) + \\Delta u}\\right)\n",
        "\\\\ {Y_{Az}} = {\\sin ^2}\\alpha \\cdot{\\sin ^2}(\\Delta L/2)\\cdot\\sin \\left({2{u_1}(t) + \\Delta u}\\right)  + \\cos \\alpha \\cdot\\sin (\\Delta L)\\cdot\\cos (\\Delta u) \\\\ + \\left({{{\\cos }^2}(\\Delta L/2) - {{\\cos }^2}\\alpha \\cdot{{\\sin }^2}(\\Delta L/2)}\\right)\\cdot\\sin (\\Delta u)$$\n",
        "\n",
        "   $$\\large Az = \\begin{cases} {\\arctan \\left({{X_{Az}}/{Y_{Az}}}\\right),}&{{X_{Az}} \\geq 0,{Y_{Az}} > 0} \\\\ {\\arctan \\left({{X_{Az}}/{Y_{Az}}}\\right) + 2\\pi ,}&{{X_{Az}} > 0,{Y_{Az}} < 0} \\\\ {\\arctan \\left({{X_{Az}}/{Y_{Az}}}\\right) + \\pi ,}&{{X_{Az}} < 0} \\end{cases}$$\n",
        "\n",
        "- $X_{Az}$ e $Y_{Az}$: são coordenadas usadas para calcular o azimute (\\(Az\\)) posteriormente.\n",
        "\n",
        "- $Az$: representa o azimute e é calculado com base nas coordenadas $X_{Az}$ e $Y_{Az}$. A função $\\arctan$ é usada para calcular a tangente inversa. Dependendo dos quadrantes em que $X_{Az}$ e $Y_{Az}$ estão localizados, são aplicados ajustes de $\\pi$ ou $2\\pi$ para garantir que o azimute seja corretamente mapeado."
      ]
    },
    {
      "cell_type": "code",
      "execution_count": null,
      "metadata": {
        "id": "fjgC7oGodD8A"
      },
      "outputs": [],
      "source": [
        "\n",
        "def calcular_Az(X_Az, Y_Az):\n",
        "    Az = math.atan2(X_Az, Y_Az)\n",
        "\n",
        "    return Az\n",
        "\n",
        "def calcular_X_Az(alpha, Delta_L, u1_t, Delta_u):\n",
        "    X_Az = (math.sin(alpha) * math.sin(Delta_L) * math.cos(u1_t + Delta_u) -\n",
        "            math.sin(2 * alpha) * math.sin(Delta_L/2)**2 * math.sin(u1_t + Delta_u))\n",
        "    \n",
        "    return X_Az\n",
        "\n",
        "def calcular_Y_Az(alpha, Delta_L, u1_t, Delta_u):\n",
        "    Y_Az = (math.sin(alpha)**2 * math.sin(Delta_L/2)**2 * math.sin(2*u1_t + Delta_u) +\n",
        "            math.cos(alpha) * math.sin(Delta_L) * math.cos(Delta_u) +\n",
        "            (math.cos(Delta_L/2)**2 - math.cos(alpha)**2 * math.sin(Delta_L/2)**2) * math.sin(Delta_u))\n",
        "    \n",
        "    return Y_Az"
      ]
    },
    {
      "cell_type": "markdown",
      "metadata": {
        "id": "56nXmYCEdNVJ"
      },
      "source": [
        "$$\\large \\begin{cases} {{d_{{\\text{intra}}}} = 2\\left({{R_E} + {h_s}}\\right)\\sin (\\left| {\\Delta u} \\right|/2)} \\\\ {E{l_{{\\text{intra}}}} = - \\left| {\\Delta u} \\right|/2} \\\\ {A{z_{{\\text{intra}}}} = 0} \\end{cases}$$\n",
        "\n",
        "$$\\large d = \\sqrt 2 \\left({{R_E} + {h_s}}\\right)\\sqrt {1 - \\cos (\\Delta u)}$$\n",
        "\n",
        " - $d_{{\\text{intra}}}$: Representa uma distância interna. Esta é calculada como $2\\left({{R_E} + {h_s}}\\right)\\sin (\\left| {\\Delta u} \\right|/2)$. A fórmula sugere que a distância $d_{{\\text{intra}}}$ é proporcional ao seno da metade do módulo de $\\Delta u$, multiplicado por uma constante que envolve o raio da Terra $(R_E)$ e a altitude $(h_s$).\n",
        "\n",
        "- $El_{{\\text{intra}}}$: Representa a elevação interna. É definida como $- \\left| {\\Delta u} \\right|/2$. Isso sugere que a elevação interna é negativa e está relacionada ao módulo de $\\Delta u$.\n",
        "\n",
        "- $Az_{{\\text{intra}}}$: Representa o azimute interno. É definido como 0, indicando uma direção específica.\n",
        "\n",
        "- $d$: Representa uma distância. Esta é calculada como $\\sqrt 2 \\left({{R_E} + {h_s}}\\right)\\sqrt {1 - \\cos (\\Delta u)}$. A equação sugere que a distância \\(d\\) é proporcional à raiz quadrada de $(1 - \\cos \\Delta u)$, multiplicada por uma constante que envolve o raio da Terra $(R_E)$ e a altitude $(h_s)$."
      ]
    },
    {
      "cell_type": "code",
      "execution_count": null,
      "metadata": {
        "id": "fynDKgj2dNvI"
      },
      "outputs": [],
      "source": [
        "def calcular_d_intra(R_E, h_s, Delta_u):\n",
        "    d_intra = 2 * (R_E + h_s) * math.sin(abs(Delta_u) / 2)\n",
        "\n",
        "    return d_intra\n",
        "\n",
        "def calcular_El_intra(Delta_u):\n",
        "    El_intra = -abs(Delta_u) / 2\n",
        "\n",
        "    return El_intra\n",
        "\n",
        "def calcular_Az_intra():\n",
        "\n",
        "    return 0\n",
        "\n",
        "def calcular_d(R_E, h_s, Delta_u):\n",
        "    d = math.sqrt(2) * (R_E + h_s) * math.sqrt(1 - math.cos(Delta_u))\n",
        "    \n",
        "    return d"
      ]
    },
    {
      "cell_type": "markdown",
      "metadata": {
        "id": "h70WIMa_hPXh"
      },
      "source": [
        "$$ \\large\n",
        "   \\cos {\\Theta ^{{\\text{polar}}}} = {\\cos ^2}\\left({\\frac{{\\Delta L}}{2}}\\right)\\cos \\Delta u - {\\sin ^2}\\left({\\frac{{\\Delta L}}{2}}\\right)\\cos \\left({2{u_1}(t) + \\Delta u}\\right)$$\n",
        "\n",
        "   - $\\Theta ^{{\\text{polar}}}$: representa o ângulo polar e é calculado usando a diferença de latitude $\\Delta L$ e a diferença de longitude $\\Delta u$.\n"
      ]
    },
    {
      "cell_type": "code",
      "execution_count": null,
      "metadata": {
        "id": "qcEhSHbThPsN"
      },
      "outputs": [],
      "source": [
        "\n",
        "def calcular_cos_Theta_polar(Delta_L, Delta_u, u1_t):\n",
        "    cos_Theta_polar = (math.cos(Delta_L/2)**2 * math.cos(Delta_u) -\n",
        "                       math.sin(Delta_L/2)**2 * math.cos(2*u1_t + Delta_u))\n",
        "    \n",
        "    return cos_Theta_polar\n"
      ]
    },
    {
      "cell_type": "markdown",
      "metadata": {
        "id": "9HcIwt9KtvpR"
      },
      "source": [
        "$$\n",
        "   d_{{\\text{inter}}}^{{\\text{polar}}} = \\sqrt 2 \\left({{R_E} + {h_s}}\\right)\\sqrt {1 - \\cos {\\Theta ^{{\\text{polar}}}}}\\\\\n",
        "   d_{{\\text{inter}}}^{{\\text{pollar}}} = \\sqrt 2 \\left({{R_E} + {h_s}}\\right)\\sqrt {1 - \\cos (\\Delta L)} \\left| {\\cos u} \\right|\n",
        "$$\n",
        "\n",
        "- $d_{{\\text{inter}}}^{{\\text{polar}}}$: representa a distância interpolar e é calculado com base em $\\cos {\\Theta ^{{\\text{polar}}}}$.\n",
        "- $R_E$: Raio da Terra.\n",
        "- $h_s$: Altitude ou altura acima da superfície da Terra.\n",
        "- $\\Delta L$: Diferença de latitude.\n",
        "- $\\cos (\\Delta L)$: A diferença de cosseno de latitude.\n",
        "- $u$: Um ângulo relacionado à posição que parece ser uma variável angular.\n",
        "- $\\cos u$: O cosseno do ângulo $u$.\n",
        "- $\\sqrt {1 - \\cos (\\Delta L)}$: Uma expressão que aparece nos cálculos de distância polar.\n",
        "- $\\sqrt 2$: Um fator multiplicativo."
      ]
    },
    {
      "cell_type": "code",
      "execution_count": null,
      "metadata": {
        "id": "Bg8O5BtBtwPJ"
      },
      "outputs": [],
      "source": [
        "\n",
        "def calcular_d_inter_polar(R_E, h_s, cos_Theta_polar):\n",
        "    d_inter_polar = math.sqrt(2) * (R_E + h_s) * math.sqrt(1 - cos_Theta_polar)\n",
        "\n",
        "    return d_inter_polar\n",
        "\n",
        "def calcular_d_inter_polar(R_E, h_s, Delta_L, u):\n",
        "    d_inter_polar = math.sqrt(2) * (R_E + h_s) * math.sqrt(1 - math.cos(Delta_L)) * abs(math.cos(u))\n",
        "    \n",
        "    return d_inter_polar"
      ]
    },
    {
      "cell_type": "markdown",
      "metadata": {
        "id": "Dw8Xqf9wkqQ9"
      },
      "source": [
        "   \\begin{equation}\n",
        "   \\begin{aligned}\n",
        "   \\frac{{{\\text{d}}\\cos \\Theta}}{{{\\text{d}}{u_1}}} &= 2{\\sin ^2}\\alpha {\\sin ^2}(\\Delta L/2)\\sin \\left({2{u_1} + \\Delta u}\\right)\n",
        "    \\end{aligned}\n",
        "   \\end{equation}\n",
        "\n",
        "- $\\sin \\alpha$: é o seno de $\\alpha$, $\\sin^2$ é o seno ao quadrado, e $\\Delta L$ é a diferença de latitude.\n",
        "- $\\sin \\left({2{u_1} + \\Delta u}\\right)$: está associado a uma variação trigonométrica relacionada à posição ou ângulo."
      ]
    },
    {
      "cell_type": "code",
      "execution_count": null,
      "metadata": {
        "id": "poJRvZ1Vkqyc"
      },
      "outputs": [],
      "source": [
        "def calcular_derivada_cos_Theta(alpha, Delta_L, u1, Delta_u):\n",
        "    \n",
        "    derivada_cos_Theta = 2 * math.sin(alpha)**2 * math.sin(Delta_L/2)**2 * math.sin(2*u1 + Delta_u)\n",
        "    return derivada_cos_Theta"
      ]
    },
    {
      "cell_type": "markdown",
      "metadata": {
        "id": "vVym3wzptYlm"
      },
      "source": [
        "\n",
        "   \\begin{equation}\n",
        "   \\begin{aligned}\n",
        "   \\frac{{{\\text{d}}d}}{{{\\text{d}}{u_1}}} &= - \\frac{{\\sqrt 2 \\left({{R_E} + {h_s}}\\right)}}{{\\sqrt {1 - \\cos \\Theta } }}{\\sin ^2}\\alpha {\\sin ^2}(\\Delta L/2)\\sin \\left({2{u_1} + \\Delta u}\\right)\n",
        "   \\end{aligned}\n",
        "   \\end{equation}\n",
        "\n",
        "- $\\sqrt 2$: é um fator multiplicativo.\n",
        "- $R_E$: é o raio da Terra e $h_s$ é a altitude.\n",
        "- $\\cos \\Theta$: está presente no denominador, onde $\\Theta$ é um ângulo relacionado à posição."
      ]
    },
    {
      "cell_type": "code",
      "execution_count": null,
      "metadata": {
        "id": "Vris9_4htapi"
      },
      "outputs": [],
      "source": [
        "def calcular_derivada_d_u1(R_E, h_s, Delta_L, alpha, u1, Delta_u, cos_Theta):\n",
        "    derivada_d_u1 = -math.sqrt(2) * (R_E + h_s) / math.sqrt(1 - cos_Theta) * math.sin(alpha)**2 * math.sin(Delta_L/2)**2 * math.sin(2*u1 + Delta_u)\n",
        "    \n",
        "    return derivada_d_u1"
      ]
    },
    {
      "cell_type": "markdown",
      "metadata": {
        "id": "Azjk7m6xly_G"
      },
      "source": [
        "$${(\\cos \\Theta )_{\\min }} = \\left({{{\\cos }^2}(\\Delta L/2) - {{\\cos }^2}\\alpha \\cdot{{\\sin }^2}(\\Delta L/2)}\\right)\\cos (\\Delta u) \\\\ - \\cos \\alpha \\sin (\\Delta L)\\sin (\\Delta u) - {\\sin ^2}\\alpha {\\sin ^2}(\\Delta L/2)$$\n",
        "\n",
        "- $(\\cos \\Theta)_{\\min}$: é o valor mínimo de $\\cos \\Theta$ e é determinado pelos termos na equação.\n",
        "- ${{\\cos }^2}(\\Delta L/2) - {{\\cos }^2}\\alpha \\cdot{{\\sin }^2}(\\Delta L/2)$ e outros termos compõem a expressão para $(\\cos \\Theta)_{\\min}$. Este valor é influenciado por diversos parâmetros como $\\Delta L$, $\\alpha$, $\\Delta u$, etc."
      ]
    },
    {
      "cell_type": "code",
      "execution_count": null,
      "metadata": {
        "id": "PQgXQF6Blzsw"
      },
      "outputs": [],
      "source": [
        "\n",
        "def calcular_cos_Theta_min(Delta_L, alpha, Delta_u):\n",
        "    cos_Theta_min = ((math.cos(Delta_L/2)**2 - math.cos(alpha)**2 * math.sin(Delta_L/2)**2) * math.cos(Delta_u) -\n",
        "                     math.cos(alpha) * math.sin(Delta_L) * math.sin(Delta_u) -\n",
        "                     math.sin(alpha)**2 * math.sin(Delta_L/2)**2)\n",
        "    \n",
        "    return cos_Theta_min"
      ]
    },
    {
      "cell_type": "markdown",
      "metadata": {
        "id": "bcFs3ixIsDHA"
      },
      "source": [
        "$${d_{\\max }} = \\sqrt 2 \\left({{R_E} + {h_s}}\\right)\\sqrt {1 - {{(\\cos \\Theta )}_{\\min }}}$$\n",
        "\n",
        "- $d_{\\max }$: Distância máxima.\n",
        "- $\\sqrt 2$: fator multiplicativo.\n",
        "- ${{R_E} + {h_s}}$: soma do raio da Terra e da altitude.\n",
        "- $\\sqrt {1 - (\\cos \\Theta)_{\\min}}$: Indica a dependência em relação a $(\\cos \\Theta)_{\\min}$, que é definido na equação seguinte."
      ]
    },
    {
      "cell_type": "code",
      "execution_count": null,
      "metadata": {
        "id": "qzUYP1t8sEML"
      },
      "outputs": [],
      "source": [
        "def calcular_d_max(R_E, h_s, cos_Theta_min):\n",
        "    d_max = math.sqrt(2) * (R_E + h_s) * math.sqrt(1 - cos_Theta_min)\n",
        "    \n",
        "    return d_max\n"
      ]
    },
    {
      "cell_type": "markdown",
      "metadata": {
        "id": "3T_uocNksE3c"
      },
      "source": [
        "\n",
        " $${(\\cos \\Theta )_{\\max }} = \\left({{{\\cos }^2}(\\Delta L/2) - {{\\cos }^2}\\alpha \\cdot{{\\sin }^2}(\\Delta L/2)}\\right)\\cos (\\Delta u)\\\\-\\cos \\alpha \\sin (\\Delta L)\\sin (\\Delta u) + {\\sin ^2}\\alpha {\\sin ^2}(\\Delta L/2)$$\n",
        "\n",
        "- $(\\cos \\Theta)_{\\max}$: é o valor máximo de $\\cos \\Theta$ e é determinado pelos termos na equação.\n",
        "- $\\cos \\Theta$: $\\Theta$ é um ângulo relacionado à posição."
      ]
    },
    {
      "cell_type": "code",
      "execution_count": null,
      "metadata": {
        "id": "U_XN8Pm6sFZD"
      },
      "outputs": [],
      "source": [
        "def calcular_cos_Theta_max(Delta_L, alpha, Delta_u):\n",
        "    cos_Theta_max = ((math.cos(Delta_L/2)**2 - math.cos(alpha)**2 * math.sin(Delta_L/2)**2) * math.cos(Delta_u) -\n",
        "                     math.cos(alpha) * math.sin(Delta_L) * math.sin(Delta_u) +\n",
        "                     math.sin(alpha)**2 * math.sin(Delta_L/2)**2)\n",
        "    \n",
        "    return cos_Theta_max\n"
      ]
    },
    {
      "cell_type": "markdown",
      "metadata": {
        "id": "X77Dt05StMkJ"
      },
      "source": [
        "$${d_{\\min }} = \\sqrt 2 \\left({{R_E} + {h_s}}\\right)\\sqrt {1 - {{(\\cos \\Theta )}_{\\max }}}$$\n",
        "\n",
        "- $d_{\\min }$: Distância mínima.\n",
        "- $\\sqrt 2$: fator multiplicativo.\n",
        "- ${{R_E} + {h_s}}$: soma do raio da Terra e da altitude.\n",
        "- $\\sqrt {1 - (\\cos \\Theta)_{\\min}}$: Indica a dependência em relação a $(\\cos \\Theta)_{\\min}$, que é definido na equação seguinte.\n"
      ]
    },
    {
      "cell_type": "code",
      "execution_count": null,
      "metadata": {
        "id": "ujfB7eEgtM88"
      },
      "outputs": [],
      "source": [
        "def calcular_d_min(R_E, h_s, cos_Theta_max):\n",
        "    d_min = math.sqrt(2) * (R_E + h_s) * math.sqrt(1 - cos_Theta_max)\n",
        "    \n",
        "    return d_min"
      ]
    },
    {
      "cell_type": "markdown",
      "metadata": {
        "id": "pX6XUhYwvavU"
      },
      "source": [
        "$$\\Delta {u_{cr}} = - 2{\\tan ^{ - 1}}(\\cos \\alpha \\tan (\\Delta L/2))$$\n",
        "\n",
        "- $\\Delta u_{cr}$ representa o ângulo crítico ou de corte.\n",
        "- $\\cos \\alpha$ é o cosseno do ângulo $\\alpha$.\n",
        "- $\\tan (\\Delta L/2)$ é a tangente do meio ângulo \\$Delta L$.\n",
        "- $\\tan ^{- 1}$ denota a função arco tangente, também conhecida como inversa da tangente."
      ]
    },
    {
      "cell_type": "code",
      "execution_count": null,
      "metadata": {
        "id": "0BH2xm6evb3J"
      },
      "outputs": [],
      "source": [
        "def calcular_delta_u_cr(alpha, Delta_L):\n",
        "   delta_u_cr = -2 * math.atan(math.cos(alpha) * math.tan(Delta_L/2))\n",
        "\n",
        "   return delta_u_cr"
      ]
    }
  ],
  "metadata": {
    "colab": {
      "provenance": []
    },
    "kernelspec": {
      "display_name": "Python 3",
      "name": "python3"
    },
    "language_info": {
      "name": "python"
    }
  },
  "nbformat": 4,
  "nbformat_minor": 0
}
