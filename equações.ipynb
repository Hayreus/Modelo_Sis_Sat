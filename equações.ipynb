{
  "cells": [
    {
      "cell_type": "markdown",
      "metadata": {
        "id": "Lz-vow1i_snH"
      },
      "source": [
        "# POSIÇÃO GLOBAL\n",
        "\n",
        "$$\\large \\Psi = 2R \\left\\{ \\frac{\\pi}{2} - \\eta - \\sin^{-1} \\left[ \\frac{R}{R+h} \\cos \\eta \\tag{1} \\right] \\right\\} $$\n",
        "\n",
        "  - $\\Psi$: representa o ângulo de cobertura.\n",
        "  - $R$: é o raio médio da Terra.\n",
        "  - $h$: é a altitude do satélite.\n",
        "  - $\\eta$: é o ângulo de elevação mínimo.\n",
        "\n",
        "  "
      ]
    },
    {
      "cell_type": "code",
      "execution_count": null,
      "metadata": {
        "id": "sx01TOO1MpHf"
      },
      "outputs": [],
      "source": [
        "import math\n",
        "\n",
        "def calcular_psi(R, h, eta):\n",
        "    termo1 = 2 * R * (math.pi / 2)\n",
        "    termo2 = 2 * R * (-eta)\n",
        "    termo3 = 2 * R * math.asin((R / (R + h)) * math.cos(eta))\n",
        "    psi = termo1 + termo2 + termo3\n",
        "    \n",
        "    return psi"
      ]
    },
    {
      "cell_type": "markdown",
      "metadata": {
        "id": "XMGwvlanETv_"
      },
      "source": [
        " $$\\large \\beta = \\frac{2\\psi}{\\left( 2n +1 \\right)\\tag{2}}$$\n",
        "   - $\\beta$: é o ângulo de cobertura de cada célula.\n",
        "   - $n$:  é o número de células hexagonais."
      ]
    },
    {
      "cell_type": "code",
      "execution_count": null,
      "metadata": {
        "id": "WEkSZPoAEa_0"
      },
      "outputs": [],
      "source": [
        "def calcular_beta(psi, n):\n",
        "    beta = (2 * psi) / (2 * n + 1)\n",
        "    \n",
        "    return beta"
      ]
    },
    {
      "cell_type": "markdown",
      "metadata": {
        "id": "nfbCJYKdQ8y1"
      },
      "source": [
        "$$\\large N_{c}=1+\\frac{6n(n+1)}{2}\\tag{3}$$\n",
        "\n",
        "   - $N_c$: representa o número de feixes pontuais."
      ]
    },
    {
      "cell_type": "code",
      "execution_count": null,
      "metadata": {
        "id": "KZvoQdYuQ9Ma"
      },
      "outputs": [],
      "source": [
        "def calcular_Nc(n):\n",
        "    Nc = 1 + (6 * n * (n + 1)) / 2\n",
        "    \n",
        "    return Nc"
      ]
    },
    {
      "cell_type": "markdown",
      "metadata": {
        "id": "vgDw6G5jRmsW"
      },
      "source": [
        " $$\\large \\frac{\\theta_0}{2} = \\tan^{-1}\\left(\\frac{R\\sin(\\beta/2)}{h+R-R\\cos(\\beta/2)}\\tag{4}\\right)$$\n",
        "  \n",
        "   - $\\theta_0$: é a largura do feixe da célula central."
      ]
    },
    {
      "cell_type": "code",
      "execution_count": null,
      "metadata": {
        "id": "ZQk7RGuHRo5H"
      },
      "outputs": [],
      "source": [
        "\n",
        "def calcular_theta_0_2(R, h, beta):\n",
        "    numerador = R * math.sin(beta / 2)\n",
        "    denominador = h + R - R * math.cos(beta / 2)\n",
        "    theta_0_2 = math.atan2(numerador, denominador)\n",
        "    \n",
        "    return theta_0_2"
      ]
    },
    {
      "cell_type": "markdown",
      "metadata": {
        "id": "tlJLAry_SO19"
      },
      "source": [
        "$$\\large \\theta_n = \\tan^{-1}\\left[ \\frac{R\\sin\\left\\{ (2n+1)\\beta/2 \\right\\}}{h+R-R\\cos\\left\\{ (2n+1) \\beta/2 \\right\\}} \\right] - \\sum_{k=1}^{n-1} \\theta_k - \\frac{\\theta_0}{2}\\tag{5}$$\n",
        "   \n",
        "- $\\theta_n$: é a largura do feixe da enésima coroa.\n",
        "- $R$: Raio médio da Terra.\n",
        "- $h$: Altitude do satélite.\n",
        "- $\\eta$: Ângulo de elevação mínimo.\n",
        "- $n$: Número de células hexagonais.\n",
        "- $\\beta$: Ângulo de cobertura de cada célula.\n",
        "- $N_c$: Número de feixes pontuais.\n",
        "- $\\theta_0$: Largura do feixe da célula central.\n",
        "- $\\theta_n$: Largura do feixe da enésima coroa."
      ]
    },
    {
      "cell_type": "code",
      "execution_count": null,
      "metadata": {
        "id": "PZ_MFsE-SPMP"
      },
      "outputs": [],
      "source": [
        "def calcular_theta_n(R, h, beta, n):\n",
        "    # Termo 1: R * sin((2n+1)beta/2)\n",
        "    termo1 = R * math.sin((2 * n + 1) * beta / 2)\n",
        "\n",
        "    # Termo 2: h + R - R * cos((2n+1)beta/2)\n",
        "    termo2 = h + R - R * math.cos((2 * n + 1) * beta / 2)\n",
        "\n",
        "    # Calcula theta_n usando a fórmula fornecida\n",
        "    theta_n = math.atan2(termo1, termo2)\n",
        "\n",
        "    # Calcula a soma dos termos anteriores: Σθ_k\n",
        "    soma_theta_k = sum(math.atan2(R * math.sin((2 * k + 1) * beta / 2), h + R - R * math.cos((2 * k + 1) * beta / 2)) for k in range(1, n))\n",
        "\n",
        "    # Termo 3: θ_0/2\n",
        "    termo3 = calcular_theta_0_2(R, h, beta)\n",
        "\n",
        "    # Subtrai os termos anteriores da fórmula principal\n",
        "    theta_n -= (soma_theta_k + termo3)\n",
        "\n",
        "    return theta_n\n"
      ]
    },
    {
      "cell_type": "markdown",
      "metadata": {
        "id": "I7JOJie8TCOz"
      },
      "source": [
        "# MODELO GLOBAL\n",
        "\n",
        "\\begin{align*} \\begin{cases} g_{t} = \\dfrac {2\\pi - (2\\pi -\\theta)\\delta }{ \\theta },\\\\ g_{s} = \\delta, \\end{cases}\\tag{1}\\end{align*}\n",
        "\n",
        "\n",
        "- $g_{t}$: Ganho do lóbulo principal.\n",
        "- $g_{s}$: Ganho do lóbulo lateral.\n",
        "- $\\theta$: largura do feixe da antena.\n",
        "- $\\delta$: largura do feixe da antena."
      ]
    },
    {
      "cell_type": "code",
      "execution_count": null,
      "metadata": {
        "id": "dsImD82vTCnb"
      },
      "outputs": [],
      "source": [
        "def calcular_gs_gt(theta, delta):\n",
        "    # Calcula g_t usando a primeira equação\n",
        "    gt = (2 * math.pi - (2 * math.pi - theta) * delta) / theta\n",
        "\n",
        "    # Calcula g_s usando a segunda equação\n",
        "    gs = delta\n",
        "\n",
        "    return gs, gt"
      ]
    },
    {
      "cell_type": "markdown",
      "metadata": {
        "id": "a1q3KrwFUUzj"
      },
      "source": [
        "$$\\begin{equation*} \\gamma _{k,m} = \\frac {p_{k,m} g_{t} g^{ru}_{k} L_{k}}{ I^{i}_{k,m}+I^{d}_{k,m}+N_{0}W},\\tag{2}\\end{equation*}\n",
        "$$\n",
        "\n",
        "- $\\gamma_{k,m}$: Relação sinal-ruído (SNR) para o $k$-ésimo usuário e o $m$-ésimo canal.\n",
        "- $p_{k,m}$: Potência transmitida pelo $k$-ésimo usuário no $m$-ésimo canal.\n",
        "- $g_{t}$: Ganho do canal de transmissão.\n",
        "- $g^{ru}_{k}$: Ganho do receptor do $k$-ésimo usuário.\n",
        "- $L_{k}$: Perdas de propagação do $k$-ésimo usuário.\n",
        "- $I^{i}_{k,m}$: Interferência intrausuário para o $k$-ésimo usuário e $m$-ésimo canal.\n",
        "- $I^{d}_{k,m}$: Interferência interusuário para o $k$-ésimo usuário e $m$-ésimo canal.\n",
        "- $N_{0}$: Densidade espectral de ruído AWGN.\n",
        "- $W$: Largura de banda do canal."
      ]
    },
    {
      "cell_type": "code",
      "execution_count": null,
      "metadata": {
        "id": "qHipV7vdUVHZ"
      },
      "outputs": [],
      "source": [
        "\n",
        "def calcular_gamma(p_km, gt, g_ru_k, L_k, I_i_k_m, I_d_k_m, N_0, W):\n",
        "    gamma_k_m = (p_km * gt * g_ru_k * L_k) / (I_i_k_m + I_d_k_m + N_0 * W)\n",
        "\n",
        "    return gamma_k_m"
      ]
    },
    {
      "cell_type": "markdown",
      "metadata": {
        "id": "ZTb3UqdWV9DW"
      },
      "source": [
        "\\begin{equation*} I^{i}_{k,m} = g_{s} g^{ru}_{k} L_{k} \\sum \\limits _{m'\\neq m} \\sum \\limits _{k'\\neq k} p_{k',m'} x_{k',m'},\\tag{3}\\end{equation*}\n",
        "\n",
        "\n",
        "- \\(I^{i}_{k,m}\\): Interferência intrausuário para o \\(k\\)-ésimo usuário e \\(m\\)-ésimo canal.\n",
        "\n",
        "- $g_{s}$: Ganho do transmissor.\n",
        "\n",
        "- $g^{ru}_{k}$: Ganho do receptor do $k$-ésimo usuário.\n",
        "\n",
        "- $L_{k}$: Perdas de propagação do $k$-ésimo usuário.\n",
        "\n",
        "- $\\sum \\limits _{m'\\neq m} \\sum \\limits _{k'\\neq k} p_{k',m'} x_{k',m'}$: A soma dos produtos da potência transmitida $p_{k',m'}$ pelo $k'$-ésimo usuário no $m'$-ésimo canal e a alocação de recursos $x_{k',m'}$, excluindo o $m$-ésimo canal e o $k$-ésimo usuário. $x_{k',m'}$ é uma variável binária que indica a atribuição do feixe."
      ]
    },
    {
      "cell_type": "code",
      "execution_count": null,
      "metadata": {
        "id": "EVm0TtuuV9iG"
      },
      "outputs": [],
      "source": [
        "def calcular_I_i_k_m(gs, g_ru_k, L_k, p, x):\n",
        "    # Inicializa o valor de I_i_k_m\n",
        "    I_i_k_m = 0\n",
        "\n",
        "    # Loop sobre todos os índices m' e k'\n",
        "    for m_prime in range(len(x)):\n",
        "        for k_prime in range(len(x[0])):\n",
        "            if m_prime != m and k_prime != k:\n",
        "                # Adiciona o termo ao somatório\n",
        "                I_i_k_m += p[k_prime][m_prime] * x[k_prime][m_prime]\n",
        "\n",
        "    # Multiplica pelos fatores restantes da equação\n",
        "    I_i_k_m *= gs * g_ru_k * L_k\n",
        "\n",
        "    return I_i_k_m"
      ]
    },
    {
      "cell_type": "markdown",
      "metadata": {
        "id": "j8ZAWxI_W19N"
      },
      "source": [
        "\\begin{equation*} I^{d}_{k,m} = p_{k,m} g_{t} g^{ru}_{k} L_{k} (1-\\text {sinc}^{2}(f_{k} T_{s})),\\tag{4}\\end{equation*}\n",
        "\n",
        "\n",
        "- $I^{d}_{k,m}$: Interferência interusuário para o $k$-ésimo usuário e $m$-ésimo canal.\n",
        "\n",
        "- $p_{k,m}$: Potência transmitida pelo $k$-ésimo usuário no $m$-ésimo canal.\n",
        "\n",
        "- $g_{t}$: Ganho do canal de transmissão.\n",
        "\n",
        "- $g^{ru}_{k}$: Ganho do receptor do $k$-ésimo usuário.\n",
        "\n",
        "- $L_{k}$: Perdas de propagação do $k$-ésimo usuário.\n",
        "\n",
        "- $\\text {sinc}$: Função sinc.\n",
        "\n",
        "- $f_{k}$: Frequência desviada associada ao $k$-ésimo usuário, calculada usando a velocidade $v$, a frequência da portadora $f_{c}$, a velocidade da luz $c$, e o ângulo $\\phi_{k}$.\n",
        "\n",
        "- $T_{s}$: Período de símbolo."
      ]
    },
    {
      "cell_type": "code",
      "execution_count": null,
      "metadata": {
        "id": "9SL1aRuaW2bh"
      },
      "outputs": [],
      "source": [
        "\n",
        "def calcular_I_d_k_m(p_km, gt, g_ru_k, L_k, f_k, T_s):\n",
        "    sinc_term = math.sin(math.pi * f_k * T_s) / (math.pi * f_k * T_s) if f_k * T_s != 0 else 1\n",
        "    I_d_k_m = p_km * gt * g_ru_k * L_k * (1 - sinc_term**2)\n",
        "\n",
        "    return I_d_k_m"
      ]
    },
    {
      "cell_type": "markdown",
      "metadata": {
        "id": "TuDEsBrVZPC-"
      },
      "source": [
        "\\begin{equation*} f_{k} = \\frac {v f_{c}}{c} \\cos \\phi _{k},\\tag{5}\\end{equation*}\n",
        "\n",
        "- $f_{k}$: Frequência desviada associada ao \\(k\\)-ésimo usuário.\n",
        "- $v$: Velocidade do satélite.\n",
        "- $f_{c}$: Frequência da portadora.\n",
        "- $c$: Velocidade da luz no vácuo.\n",
        "- $\\cos \\phi_{k}$: Cosseno do ângulo de desvio $\\phi_{k}$"
      ]
    },
    {
      "cell_type": "code",
      "execution_count": null,
      "metadata": {
        "id": "pztcitNkZPbu"
      },
      "outputs": [],
      "source": [
        "def calcular_f_k(v, f_c, c, phi_k):\n",
        "    f_k = (v * f_c / c) * math.cos(phi_k)\n",
        "\n",
        "    return f_k"
      ]
    },
    {
      "cell_type": "markdown",
      "metadata": {
        "id": "Nj5-nOdMaFuB"
      },
      "source": [
        "\\begin{equation*} R_{k} = \\sum \\limits _{m=1}^{M} W \\log _{2} (1+ \\gamma _{k,m}) x_{k,m}.\\tag{6}\\end{equation*}\n",
        "\n",
        "\n",
        "- $R_{k}$: a taxa de soma alcançável do utilizador\\(k\\)-ésimo usuário em todos os feixes.\n",
        "- $W$: Largura de banda do canal.\n",
        "- $\\log_{2}$: Logaritmo na base 2.\n",
        "- $\\gamma_{k,m}$: Relação sinal-ruído (SNR) para o $k$-ésimo usuário e \\(m\\)-ésimo canal.\n",
        "- $x_{k,m}$: Alocação de recursos do $k$-ésimo usuário no $m$-ésimo canal."
      ]
    },
    {
      "cell_type": "code",
      "execution_count": null,
      "metadata": {
        "id": "84D9Yhe_aGDY"
      },
      "outputs": [],
      "source": [
        "def calcular_R_k(gamma, W, x):\n",
        "    # Inicializa o valor de R_k\n",
        "    R_k = 0\n",
        "\n",
        "    # Loop sobre todos os índices m\n",
        "    for m in range(len(x[0])):\n",
        "        # Adiciona o termo ao somatório\n",
        "        R_k += W * math.log2(1 + gamma[m]) * x[m]\n",
        "\n",
        "    return R_k"
      ]
    },
    {
      "cell_type": "markdown",
      "metadata": {
        "id": "N_NGYDVrafch"
      },
      "source": [
        "\\begin{equation*} P_{a} = \\frac {1}{\\rho } \\sum \\limits _{k=1}^{K} \\sum \\limits _{m=1}^{M} p_{k,m} x_{k,m}.\\tag{7}\\end{equation*}\n",
        "\n",
        "- $P_{a}$: Potência total transmitida.\n",
        "- $\\rho$: Fator de eficiência da potência.\n",
        "- $p_{k,m}$: Potência transmitida pelo $k$-ésimo usuário no $m$-ésimo canal.\n",
        "- $x_{k,m}$: Alocação de recursos do $k$-ésimo usuário no $m$-ésimo canal."
      ]
    },
    {
      "cell_type": "code",
      "execution_count": null,
      "metadata": {
        "id": "bnHn_RMQafxv"
      },
      "outputs": [],
      "source": [
        "\n",
        "def calcular_Pa(p, x):\n",
        "    # Inicializa o valor de Pa\n",
        "    Pa = 0\n",
        "\n",
        "    # Loop sobre todos os índices k e m\n",
        "    for k in range(len(x)):\n",
        "        for m in range(len(x[0])):\n",
        "            # Adiciona o termo ao somatório\n",
        "            Pa += p[k][m] * x[k][m]\n",
        "\n",
        "    # Divide pelo fator de escala (1/ρ)\n",
        "    Pa /= len(x) * len(x[0])\n",
        "\n",
        "    return Pa"
      ]
    },
    {
      "cell_type": "markdown",
      "metadata": {
        "id": "xJzd8bnFbPwh"
      },
      "source": [
        "\\begin{equation*} P_{\\text {tot}} = P_{c} + P_{a}.\\tag{8}\\end{equation*}\n",
        "\n",
        "\n",
        "- $P_{\\text {tot}}$: Potência total do sistema.\n",
        "- $P_{c}$: Potência consumida pelo canal.\n",
        "- $P_{a}$: Potência total transmitida."
      ]
    },
    {
      "cell_type": "code",
      "execution_count": null,
      "metadata": {
        "id": "8GSIRiSSbQK1"
      },
      "outputs": [],
      "source": [
        "\n",
        "def calcular_Ptot(Pc, Pa):\n",
        "    Ptot = Pc + Pa\n",
        "    \n",
        "    return Ptot"
      ]
    },
    {
      "cell_type": "markdown",
      "metadata": {
        "id": "-1yWOKfFbVC6"
      },
      "source": [
        "\\begin{equation*} I_{b} = g_{s} g_{b} L_{b} \\sum \\limits _{m=1}^{M} \\sum \\limits _{k=1}^{K} x_{k,m} p_{k,m},\\tag{9}\\end{equation*}\n",
        "\n",
        "- $I_{b}$: Alguma forma de interferência no sistema.\n",
        "- $g_{s}$: Ganho do transmissor.\n",
        "- $g_{b}$: Ganho do receptor.\n",
        "- $L_{b}$: Perdas de propagação.\n",
        "- $x_{k,m}$: Alocação de recursos do $k$-ésimo usuário no $m$-ésimo canal.\n",
        "- $p_{k,m}$: Potência transmitida pelo $k$-ésimo usuário no $m$-ésimo canal."
      ]
    },
    {
      "cell_type": "code",
      "execution_count": null,
      "metadata": {
        "id": "0VId3oU3bVo0"
      },
      "outputs": [],
      "source": [
        "\n",
        "def calcular_Ib(gs, gb, Lb, p, x):\n",
        "    # Inicializa o valor de Ib\n",
        "    Ib = 0\n",
        "\n",
        "    # Loop sobre todos os índices k e m\n",
        "    for k in range(len(x)):\n",
        "        for m in range(len(x[0])):\n",
        "            # Adiciona o termo ao somatório\n",
        "            Ib += x[k][m] * p[k][m]\n",
        "\n",
        "    # Multiplica pelos fatores restantes da equação\n",
        "    Ib *= gs * gb * Lb\n",
        "\n",
        "    return Ib"
      ]
    },
    {
      "cell_type": "markdown",
      "metadata": {},
      "source": [
        "# PROBLEMA DE OTIMIZAÇÃO GLOBAL DA EFICIÊNCIA ENERGÉTICA\n",
        "\n",
        "\\begin{equation*} \\eta (\\mathbf {X}, \\mathbf {P}) = \\frac {\\sum \\limits _{k=1}^{K} R_{k}}{P_{c} + \\frac {1}{\\rho } \\sum \\limits _{k=1}^{K} \\sum \\limits _{m=1}^{M} p_{k,m} x_{k,m} },\\tag{10}\\end{equation*}\n",
        "\n",
        "\n",
        "\\begin{align*} &\\max _{\\mathbf {X}, \\mathbf {p}} ~\\eta (\\mathbf {X}, \\mathbf {p}) \\tag {11}\\\\\n",
        "&\\text {s.t.} ~\\sum \\limits _{m=1}^{M} p_{m} \\leq P_{T}, \\tag {11a}\\\\\n",
        "&\\hphantom {\\text {s.t.} ~}p_{m} \\leq P_{f}, \\quad \\forall m \\in \\mathcal {M} \\tag {11b}\\\\\n",
        "&\\hphantom {\\text {s.t.} ~} g_{s} g_{b} L_{b} \\sum \\limits _{m=1}^{M} \\sum \\limits _{k=1}^{K} x_{k,m} p_{m} \\leq P_{r}(p), \\forall b \\in \\mathcal {B} \\tag {11c}\\\\\n",
        "&\\hphantom {\\text {s.t.} ~} \\sum \\limits _{m=1}^{M} x_{k,m} \\leq 1, \\quad \\forall k \\in \\mathcal {K} \\tag {11d}\\\\\n",
        "&\\hphantom {\\text {s.t.} ~} \\sum \\limits _{k=1}^{K} x_{k,m} \\leq 1, \\quad \\forall m\\in \\mathcal {M} \\tag {11e}\\\\\n",
        "&\\hphantom {\\text {s.t.} ~} \\sum \\limits _{m=1}^{M} \\sum \\limits _{k=1}^{K} x_{k,m} \\leq M, \\tag {11f}\\\\\n",
        "&\\hphantom {\\text {s.t.} ~} x_{k,m} = \\{0,1\\}, \\quad \\forall k \\in \\mathcal {K}, \\forall m \\in \\mathcal {M}, \\tag {11g}\\end{align*}\n",
        "\n",
        "\n",
        "\n",
        "\n",
        "- $X$: Matriz de dimension K×M com elementos $x[k][m]$ representando a alocação de usuários em feixes.\n",
        "- $P$: Vetor de tamanho M com elementos $p[m]$ representando a alocação de potência para cada feixe.\n",
        "- $R_k$: Valores de $R_k$\n",
        "- $P_{c}$: Potência consumida pelo canal.\n",
        "- $\\rho$: Constante representando um valor fixo.\n",
        "- $p$: Matriz de $p$\n",
        "- $x$: Matriz de $x$\n",
        "- $K$: Conjunto de todos os $K$ usuários.\n",
        "- $M$: Conjunto de todos os $M$ feixes.\n",
        "\n"
      ]
    },
    {
      "cell_type": "code",
      "execution_count": null,
      "metadata": {},
      "outputs": [],
      "source": [
        "from scipy.optimize import minimize\n",
        "\n",
        "def objective_function(vars):\n",
        "    X = vars[:K*M].reshape((K, M))\n",
        "    p = vars[K*M:]\n",
        "    \n",
        "    numerator = sum(R)\n",
        "    denominator = Pc + (1/rho) * sum(sum(p[k][m] * X[k][m] for m in range(M)) for k in range(K))\n",
        "    \n",
        "    return -numerator / denominator\n",
        "\n",
        "def constraint1(p):\n",
        "    return sum(p) - PT\n",
        "\n",
        "def constraint2(p):\n",
        "    return [Pf - p[m] for m in range(M)]\n",
        "\n",
        "def constraint3(vars):\n",
        "    X = vars[:K*M].reshape((K, M))\n",
        "    p = vars[K*M:]\n",
        "    \n",
        "    return [Ps[b] * Pb[b] * Lb[b] * sum(sum(X[k][m] * p[m] for m in range(M)) for k in range(K)) - Pr(p) for b in range(B)]\n",
        "\n",
        "def constraint4(X):\n",
        "    return [sum(X[k]) - 1 for k in range(K)]\n",
        "\n",
        "def constraint5(X):\n",
        "    return [sum(X[:, m]) - 1 for m in range(M)]\n",
        "\n",
        "def constraint6(X):\n",
        "    return [sum(sum(X)) - M]\n",
        "\n",
        "# Supondo que você tenha definido todos os parâmetros necessários antes de chamar a função de otimização\n",
        "\n",
        "initial_guess = [0.5] * (K*M + M)\n",
        "bounds = [(0, 1)] * (K*M) + [(0, Pf)] * M\n",
        "\n",
        "constraints = [{'type': 'ineq', 'fun': constraint1},\n",
        "               {'type': 'ineq', 'fun': constraint2},\n",
        "               {'type': 'ineq', 'fun': constraint3},\n",
        "               {'type': 'eq', 'fun': constraint4},\n",
        "               {'type': 'eq', 'fun': constraint5},\n",
        "               {'type': 'eq', 'fun': constraint6}]\n",
        "\n",
        "result = minimize(objective_function, initial_guess, bounds=bounds, constraints=constraints)\n",
        "\n",
        "print(\"Resultado da otimização:\")\n",
        "print(result)\n"
      ]
    },
    {
      "cell_type": "markdown",
      "metadata": {},
      "source": [
        "\\begin{align*} p_{k,m}=&\\min \\left \\{{ P_{f}, \\frac {P_{T}}{M}, \\frac {P_{r}(p)}{ g_{s} g_{b} L_{b} M} }\\right \\} \\\\=&P_{\\text {eq}}, \\quad \\forall k\\in \\mathcal {K}, m\\in \\mathcal { M}. \\tag{12}\\end{align*}\n",
        "\n",
        "- $p_{k,m}$: potência de transmissão para um feixe específico $k$ e ponto de acesso $m$ com base nas potências máximas disponíveis e nas restrições de potência do sistema.\n",
        "- $Pf$: Potência máxima permitida para a transmissão, geralmente determinada pelas restrições do sistema ou regulamentações.\n",
        "- $PT$: Potência total disponível para alocação entre todos os feixes.\n",
        "- $Pr$: Potência total disponível para recepção, geralmente limitada pelas características do receptor ou do ambiente de comunicação.\n",
        "- $gs$: Ganho do receptor.\n",
        "- $gb$: Ganho da unidade remota.\n",
        "- $Lb$: Perda do caminho entre a unidade remota e o receptor.\n",
        "- $M$: Número total de feixes disponíveis para alocação.\n",
        "A função `calcular_p_km` calcula a potência de transmissão $p_{k,m}$ para um feixe específico $k$ e ponto de acesso $m$ com base nas potências máximas disponíveis e nas restrições de potência do sistema. Ela retorna o valor $P_{eq}$, que é a potência de transmissão calculada para esse feixe e ponto de acesso.\n"
      ]
    },
    {
      "cell_type": "code",
      "execution_count": null,
      "metadata": {},
      "outputs": [],
      "source": [
        "def calcular_p_km(Pf, PT, Pr, gs, gb, Lb, M):\n",
        "    # Calcula p_km usando a fórmula fornecida\n",
        "    Peq = min(Pf, PT / M, Pr / (gs * gb * Lb * M))\n",
        "    \n",
        "    return Peq"
      ]
    },
    {
      "cell_type": "markdown",
      "metadata": {},
      "source": [
        "$$ \\sum \\limits _{m=1}^{M} \\sum \\limits _{k=1}^{K} x_{k,m} p_{k,m} \\leq \\frac {P_{r}(p)}{g_{s} g_{b} L_{b}}, \\quad \\forall b \\in \\mathcal {B},\\tag{13}$$\n",
        "\n",
        "\n",
        "\n",
        "- $vars$: Vetor de variáveis de otimização, que inclui tanto a alocação de recursos $X$ quanto as potências $p$.\n",
        "- $Ps$: Lista ou array contendo os valores dos parâmetros $P_{s}[b]$, que representa a potência de transmissão no ponto de acesso $b$.\n",
        "- $Pb$: Lista ou array contendo os valores dos parâmetros $P_{b}[b]$, que representa a potência do ponto de acesso $b$.\n",
        "- $Lb$: Lista ou array contendo os valores dos parâmetros $L_{b}[b]$, que representa a perda do caminho entre a unidade remota e o ponto de acesso \\$b$.\n",
        "- $Pr$: Potência total disponível para recepção, geralmente limitada pelas características do receptor ou do ambiente de comunicação.\n",
        "- $X$: Matriz de alocação de recursos, onde $X[k][m]$ representa a alocação de recursos do feixe $k$ para o ponto de acesso $m$.\n",
        "- $p$: Vetor de potências, onde $p[k*M + m]$ representa a potência atribuída ao feixe $k$ para o ponto de acesso $m$.\n",
        "- $gs$: Ganho do receptor.\n",
        "- $gb$: Ganho da unidade remota."
      ]
    },
    {
      "cell_type": "code",
      "execution_count": null,
      "metadata": {},
      "outputs": [],
      "source": [
        "def constraint3(vars, Ps, Pb, Lb, Pr):\n",
        "    X = vars[:K*M].reshape((K, M))\n",
        "    p = vars[K*M:]\n",
        "    \n",
        "    # Calcula o lado esquerdo da desigualdade\n",
        "    left_side = sum(sum(X[k][m] * p[k*M + m] for m in range(M)) for k in range(K))\n",
        "    \n",
        "    # Calcula o lado direito da desigualdade\n",
        "    right_side = Pr / (gs * gb * Lb)\n",
        "    \n",
        "    # Retorna a desigualdade\n",
        "    return left_side - right_side\n"
      ]
    },
    {
      "cell_type": "markdown",
      "metadata": {},
      "source": [
        "$$\\sum \\limits _{k=1}^{K} \\sum \\limits _{m=1}^{M} x_{k,m} p_{k,m} =\\sum \\ limites _{m=1}^{M} p_{m}.\\tag{14}$$\n",
        "\n",
        "- $K$: Número total de recursos (feixes).\n",
        "- $M$: Número total de tarefas.\n",
        "- $x_{k,m}$: Variável de decisão binária que indica se a tarefa $m$ é atribuída ao recurso $k$. Assume o valor 1 se a atribuição for feita, 0 caso contrário.\n",
        "- $p_{k,m}$: Custo de atribuir a tarefa $m$ ao recurso $k$.\n",
        "- $p_{m}$: Soma dos custos de todas as atribuições possíveis para a tarefa $m$.\n"
      ]
    },
    {
      "cell_type": "code",
      "execution_count": null,
      "metadata": {},
      "outputs": [],
      "source": [
        "def constraint7(vars):\n",
        "    X = vars[:K*M].reshape((K, M))\n",
        "    p = vars[K*M:]\n",
        "    \n",
        "    # Calcula o lado esquerdo da igualdade\n",
        "    left_side = sum(sum(X[k][m] * p[k*M + m] for m in range(M)) for k in range(K))\n",
        "    \n",
        "    # Calcula o lado direito da igualdade\n",
        "    right_side = sum(p)\n",
        "    \n",
        "    # Retorna a diferença entre os dois lados da igualdade\n",
        "    return left_side - right_side\n",
        "\n",
        "\"\"\"\n",
        "- $vars$: Vetor de variáveis de otimização, que inclui tanto a alocação de recursos $X$ quanto as potências $p$.\n",
        "- $X$: Matriz de alocação de recursos, onde $X[k][m]$ representa a alocação de recursos do feixe $k$ para o ponto de acesso $m$.\n",
        "- $p$: Vetor de potências, onde $p[k*M + m]$ representa a potência atribuída ao feixe $k$ para o ponto de acesso $m$.\n",
        "- $K$: Número total de feixes disponíveis.\n",
        "- $M$: Número total de pontos de acesso.\n",
        "- $left_side$: Lado esquerdo da igualdade, calculado como a soma dos produtos das alocações de recursos $X$ pelas potências $p$, para todos os feixes e pontos de acesso.\n",
        "- $right_side$: Lado direito da igualdade, calculado como a soma de todas as potências atribuídas aos pontos de acesso.\n",
        "\"\"\""
      ]
    },
    {
      "cell_type": "markdown",
      "metadata": {},
      "source": [
        "$$ \\eta \\left ({\\mathbf {X}}\\right) = \\frac { \\sum \\limits _{k=1}^{K} \\sum \\limits _{m=1}^ {M} W \\log _{2} \\left ({1+ \\frac {p_{m} g_{t} g_{k}^{ru} L_{k} }{ I_{k,m}^{i } + I_{k,m}^{d} + N_{0} W } }\\right) x_{k,m} }{ P_{c} + \\frac {1}{\\rho } \\sum \\limits _ {m=1}^{M} p_{m} },\\tag{15}$$\n",
        "\n",
        "- $X$: Matriz de alocação de recursos, onde $X[k][m]$ representa a alocação de recursos do feixe $k$ para o ponto de acesso $m$.\n",
        "- $p$: Vetor de potências, onde $p[m]$ representa a potência atribuída ao ponto de acesso $m$.\n",
        "- $P_{c}$: Potência consumida pelo canal.\n",
        "- $rho$: Fator de escala.\n",
        "- $W$: Largura de banda.\n",
        "- $g_t$: Ganho do transmissor.\n",
        "- $g_ru$: Ganho da unidade remota.\n",
        "- $L$: Lista ou array contendo os valores dos parâmetros $L_{k}$, que representam a perda do caminho para cada feixe $k$.\n",
        "- $I_i$: Matriz de interferência interna, onde $I_i[k][m]$ representa a interferência interna para o feixe $k$ e o ponto de acesso $m$.\n",
        "- $I_d$: Matriz de interferência externa, onde $I_d[k][m]$ representa a interferência externa para o feixe $k$ e o ponto de acesso $m$.\n",
        "- $N_0$: Ruído de fundo.\n",
        "\n",
        "Essa função calcula a eficiência energética $\\eta$ do sistema de comunicação com base nos parâmetros fornecidos. Ela usa a fórmula fornecida, que envolve o cálculo de um numerador e um denominador, e então retorna o valor de $\\eta$."
      ]
    },
    {
      "cell_type": "code",
      "execution_count": null,
      "metadata": {},
      "outputs": [],
      "source": [
        "def calcular_eta(X, p, Pc, rho, W, gt, g_ru, L, I_i, I_d, N_0):\n",
        "    numerator = sum(sum(W * math.log2(1 + (p[m] * gt * g_ru * L[k]) / (I_i[k][m] + I_d[k][m] + N_0 * W)) * X[k][m] for m in range(M)) for k in range(K))\n",
        "    denominator = Pc + (1 / rho) * sum(p)\n",
        "    \n",
        "    eta = numerator / denominator\n",
        "    \n",
        "    return eta\n"
      ]
    },
    {
      "cell_type": "markdown",
      "metadata": {},
      "source": [
        "\\begin{align*} I_{k,m}^{i}=&g_{s} g_{k}^{ru} L_{k} \\sum \\limits _{m'\\neq m} \\sum \\limits _ {k'\\neq k} x_{k',m'} p_{k',m'} \\\\\n",
        "=&g_{s} g_{k}^{ru} L_{k} \\sum \\limits _{m' \\neq m}p_{m'}. \\tag{16}\\end{align*}\n",
        "\n",
        "- $X$: Matriz de alocação de recursos, onde $X[k][m]$ representa a alocação de recursos do feixe $k$ para o ponto de acesso $m$.\n",
        "- $p$: Vetor de potências, onde $p[m]$ representa a potência atribuída ao ponto de acesso $m$.\n",
        "- $gs$: Ganho do receptor.\n",
        "- $g_ru$: Ganho da unidade remota.\n",
        "- $L$: Lista ou array contendo os valores dos parâmetros $L_{k}$, que representam a perda do caminho para cada feixe $k$."
      ]
    },
    {
      "cell_type": "code",
      "execution_count": null,
      "metadata": {},
      "outputs": [],
      "source": [
        "def calcular_I_i(X, p, gs, g_ru, L):\n",
        "    I_i = [[0 for _ in range(M)] for _ in range(K)]\n",
        "    \n",
        "    for k in range(K):\n",
        "        for m in range(M):\n",
        "            # Calcula a interferência interna para cada par (k, m)\n",
        "            I_i[k][m] = gs * g_ru * L[k] * sum(p[m_prime] for m_prime in range(M) if m_prime != m)\n",
        "    \n",
        "    return I_i\n"
      ]
    },
    {
      "cell_type": "markdown",
      "metadata": {},
      "source": [
        "\\begin{align*} q_{k,m} = \\frac {W}{P_{c} + \\frac {1}{\\rho } \\sum \\limits _{m=1}^{M} p_{m} } \\log _{2}\\left ({1+ \\frac {p_{m} g_{t} g_{k}^{ru} L_{k} }{ I_{k,m}^{i} + I_{k,m}^{d} + N_{0} W } }\\right), \\\\{}\\tag{17}\\end{align*}\n",
        "\n",
        "- $X$: Matriz de alocação de recursos, onde $X[k][m]$ representa a alocação de recursos do feixe $k$ para o ponto de acesso $m$.\n",
        "- $p$: Vetor de potências, onde $p[m]$ representa a potência atribuída ao ponto de acesso $m$.\n",
        "- $Pc$: Potência de controle.\n",
        "- $rho$: Fator de escala.\n",
        "- $W$: Largura de banda.\n",
        "- $gt$: Ganho do transmissor.\n",
        "- $g_ru$: Ganho da unidade remota.\n",
        "- $L$: Lista ou array contendo os valores dos parâmetros $L_{k}$, que representam a perda do caminho para cada feixe $k$.\n",
        "- $I_i$: Matriz de interferência interna, onde $I_i[k][m]$ representa a interferência interna para o feixe $k$ e o ponto de acesso $m$.\n",
        "- $I_d$: Matriz de interferência externa, onde $I_d[k][m]$ representa a interferência externa para o feixe $k$ e o ponto de acesso $m$.\n",
        "- $N_0$: Ruído de fundo."
      ]
    },
    {
      "cell_type": "code",
      "execution_count": null,
      "metadata": {},
      "outputs": [],
      "source": [
        "def calcular_q_km(X, p, Pc, rho, W, gt, g_ru, L, I_i, I_d, N_0):\n",
        "    q = [[0 for _ in range(M)] for _ in range(K)]\n",
        "    \n",
        "    for k in range(K):\n",
        "        for m in range(M):\n",
        "            # Calcula o numerador do termo q_km\n",
        "            numerator = W * math.log2(1 + (p[m] * gt * g_ru * L[k]) / (I_i[k][m] + I_d[k][m] + N_0 * W))\n",
        "            \n",
        "            # Calcula o denominador do termo q_km\n",
        "            denominator = Pc + (1 / rho) * sum(p)\n",
        "            \n",
        "            # Calcula o termo q_km\n",
        "            q[k][m] = numerator / denominator\n",
        "    \n",
        "    return q\n"
      ]
    },
    {
      "cell_type": "markdown",
      "metadata": {},
      "source": [
        "\\begin{align*} &\\max _{\\mathbf {X}} ~\\sum \\limits _{k=1}^{K} \\sum \\limits _{m=1}^{M} x_{k,m} q_{k,m} \\tag {18}\\\\ &\\text {s.t.} ~\\sum \\limits _{m=1}^{M} x_{k,m} \\leq 1, \\quad \\forall k \\in \\mathcal {K} \\tag {18a}\\\\ &\\hphantom {\\text {s.t.} ~}\\sum \\limits _{k=1}^{K} x_{k,m} \\leq 1, \\quad \\forall m \\in \\mathcal {M} \\tag {18b}\\\\ &\\hphantom {\\text {s.t.} ~}\\sum \\limits _{k=1}^{K} \\sum \\limits _{m=1}^{M} x_{k,m} = M, \\quad \\forall k \\in \\mathcal {K}, \\forall m \\in \\mathcal {M}.\\tag {18c}\\end{align*}\n",
        "\n",
        "\n",
        "- Restrição (18a): Para cada feixe $k$, a soma das alocações de recursos $x_{k,m}$ para todos os pontos de acesso $m$ não pode exceder 1. Isso significa que cada feixe pode ser alocado no máximo para um ponto de acesso.\n",
        "- Restrição (18b): Para cada ponto de acesso $m$, a soma das alocações de recursos $x_{k,m}$ para todos os feixes $k$ não pode exceder 1. Isso significa que cada ponto de acesso pode receber alocações de no máximo um feixe.\n",
        "- Restrição (18c): A soma de todas as alocações de recursos $x_{k,m}$ para todos os feixes $k$ e pontos de acesso $m$ deve ser igual a $M$, que é o número total de pontos de acesso disponíveis. Isso garante que todos os pontos de acesso sejam alocados.\n",
        "\n",
        "Essas restrições são implementadas no problema de otimização para garantir que as alocações de recursos sejam válidas e que todos os pontos de acesso sejam atendidos."
      ]
    },
    {
      "cell_type": "code",
      "execution_count": null,
      "metadata": {},
      "outputs": [],
      "source": [
        "from scipy.optimize import minimize\n",
        "\n",
        "def objective_function(X, q):\n",
        "    return -sum(sum(X[k][m] * q[k][m] for m in range(M)) for k in range(K))\n",
        "\n",
        "def constraint1(X):\n",
        "    return [sum(X[k]) - 1 for k in range(K)]\n",
        "\n",
        "def constraint2(X):\n",
        "    return [sum(X[:, m]) - 1 for m in range(M)]\n",
        "\n",
        "def constraint3(X):\n",
        "    return sum(sum(X)) - M\n",
        "\n",
        "def resolver_problema_otimizacao(q, K, M):\n",
        "    initial_guess = [[0.5] * M for _ in range(K)]\n",
        "    bounds = [(0, 1) for _ in range(K * M)]\n",
        "\n",
        "    constraints = [{'type': 'eq', 'fun': constraint1},\n",
        "                   {'type': 'eq', 'fun': constraint2},\n",
        "                   {'type': 'eq', 'fun': constraint3}]\n",
        "\n",
        "    result = minimize(objective_function, initial_guess, args=(q,),\n",
        "                      bounds=bounds, constraints=constraints)\n",
        "\n",
        "    return result\n",
        "\n",
        "\"\"\"\n",
        "- `objective_function`: Define a função objetivo a ser maximizada, que é a soma ponderada dos valores \\(q_{k,m}\\) selecionados.\n",
        "- `constraint1`: Define a restrição de que a soma das alocações de feixe em cada fila \\(k\\) não pode exceder 1.\n",
        "- `constraint2`: Define a restrição de que a soma das alocações de feixe em cada coluna \\(m\\) não pode exceder 1.\n",
        "- `constraint3`: Define a restrição de que o número total de alocações de feixe deve ser igual a \\(M\\).\n",
        "- `resolver_problema_otimizacao`: Função principal que resolve o problema de otimização, recebendo como entrada a matriz de valores \\(q\\), o número de filas \\(K\\) e o número de colunas \\(M\\).\n",
        "\n",
        "\"\"\""
      ]
    },
    {
      "cell_type": "markdown",
      "metadata": {},
      "source": [
        "\\begin{equation*} \\eta \\left ({\\mathbf {p} }\\right) = \\frac {\\sum \\limits _{k\\in \\mathcal {A}} W\\log _{2}\\left ({1+\\frac {p_{k}g_{t} g^{ru}_{k} L_{k}}{ I^{i}_{k} + I^{d}_{k} + N_{0}W}}\\right)}{P_{c} +\\frac {1}{\\rho }\\sum \\limits _{k\\in \\mathcal {A}} p_{k}} = \\frac { C(\\mathbf {p}) }{ D(\\mathbf {p}) }, \\tag{19}\\end{equation*}\n",
        "\n",
        "\n",
        "- $\\mathbf{p}$ é o vetor de potências das transmissões dos feixes.\n",
        "- $\\mathcal{A}$ é o conjunto de feixes ativos.\n",
        "- $W$ é a largura de banda.\n",
        "- $g_t$ é o ganho do transmissor.\n",
        "- $g^{ru}_k$ é o ganho da unidade remota para o feixe $k$.\n",
        "- $L_k$ é a perda do caminho para o feixe $k$.\n",
        "- $I^{i}_k$ é a interferência interna para o feixe $k$.\n",
        "- $I^{d}_k$ é a interferência externa para o feixe $k$.\n",
        "- $N_0$ é o ruído de fundo.\n",
        "- $P_c$ é a potência de controle.\n",
        "- $\\rho$ é um fator de escala.\n"
      ]
    },
    {
      "cell_type": "code",
      "execution_count": null,
      "metadata": {},
      "outputs": [],
      "source": [
        "def calcular_eta(p, Pc, rho, W, gt, g_ru, L, I_i, I_d, N_0):\n",
        "    # Calcula o numerador da eficiência energética\n",
        "    C_p = sum(W * math.log2(1 + (p[k] * gt * g_ru[k] * L[k]) / (I_i[k] + I_d[k] + N_0 * W)) for k in range(len(p)))\n",
        "    \n",
        "    # Calcula o denominador da eficiência energética\n",
        "    D_p = Pc + (1 / rho) * sum(p)\n",
        "    \n",
        "    # Calcula a eficiência energética como a razão entre o numerador e o denominador\n",
        "    eta = C_p / D_p\n",
        "    \n",
        "    return eta"
      ]
    },
    {
      "cell_type": "markdown",
      "metadata": {},
      "source": [
        "\\begin{equation*} I_{k}^{i} = g_{s} g^{ru}_{k} L_{k} \\sum \\limits _{k'\\neq k } p_{k'}, \\quad \\forall k \\in \\mathcal {A},\\tag{20}\\end{equation*}\n",
        "\n",
        "- $p$: Vetor de potências das transmissões dos feixes.\n",
        "- $gs$: Ganho do receptor.\n",
        "- $g_ru$: Lista ou array contendo os valores dos ganhos da unidade remota para cada feixe $k$.\n",
        "- $L$: Lista ou array contendo os valores das perdas do caminho para cada feixe $k$."
      ]
    },
    {
      "cell_type": "code",
      "execution_count": null,
      "metadata": {},
      "outputs": [],
      "source": [
        "def calcular_I_i(p, gs, g_ru, L):\n",
        "    I_i = [0] * len(p)\n",
        "    \n",
        "    for k in range(len(p)):\n",
        "        # Calcula a interferência interna para o feixe k\n",
        "        I_i[k] = gs * g_ru[k] * L[k] * sum(p[k_prime] for k_prime in range(len(p)) if k_prime != k)\n",
        "    \n",
        "    return I_i\n"
      ]
    },
    {
      "cell_type": "markdown",
      "metadata": {},
      "source": [
        "\\begin{equation*} I_{k}^{d} = p_{k} g_{t} g^{ru}_{k} L_{k} (1-sinc^{2}(f_{k} T_{s})), \\quad \\forall k \\in \\mathcal {A}.\\tag{21}\\end{equation*}\n",
        "\n",
        "- $p$: Vetor de potências das transmissões dos feixes.\n",
        "- $gt$: Ganho do transmissor.\n",
        "- $g_ru$: Lista ou array contendo os valores dos ganhos da unidade remota para cada feixe $k$.\n",
        "- $L$: Lista ou array contendo os valores das perdas do caminho para cada feixe $k$.\n",
        "- $f_k$: Lista ou array contendo os valores das frequências doppler para cada feixe $k$.\n",
        "- $T_s$: Período de símbolo."
      ]
    },
    {
      "cell_type": "code",
      "execution_count": null,
      "metadata": {},
      "outputs": [],
      "source": [
        "def calcular_I_d(p, gt, g_ru, L, f_k, T_s):\n",
        "    I_d = [0] * len(p)\n",
        "    \n",
        "    for k in range(len(p)):\n",
        "        # Calcula o termo sinc(f_k * T_s)\n",
        "        sinc_term = math.sin(math.pi * f_k[k] * T_s) / (math.pi * f_k[k] * T_s) if f_k[k] * T_s != 0 else 1\n",
        "        \n",
        "        # Calcula a interferência externa para o feixe k\n",
        "        I_d[k] = p[k] * gt * g_ru[k] * L[k] * (1 - sinc_term**2)\n",
        "    \n",
        "    return I_d"
      ]
    },
    {
      "cell_type": "markdown",
      "metadata": {},
      "source": [
        "\\begin{align*} &\\max _{\\mathbf {p}} \\frac {\\sum \\limits _{k\\in \\mathcal {A}} W\\log _{2}\\left ({1+\\frac {p_{k}g_{t} g^{ru}_{k} L_{k}}{ I^{i}_{k} + I^{d}_{k} + N_{0}W}}\\right)}{P_{c} +\\frac {1}{\\rho }\\sum \\limits _{k\\in \\mathcal {A}} p_{k}}, \\tag {22}\\\\ &s.t. \\sum \\limits _{k\\in \\mathcal {A}} p_{k} \\leq P_{T}, \\tag {22a}\\\\ &\\hphantom {s.t. }p_{k} \\leq P_{f}, \\quad \\forall k\\in \\mathcal {A} \\tag {22b}\\\\ &\\hphantom {s.t. }\\sum \\limits _{k\\in \\mathcal {A}} p_{k} \\leq \\frac {P_{r}(p)}{g_{s} g_{b} L_{b}}.\\tag {22c}\\end{align*}\n",
        "\n",
        "\n",
        "- Objetivo (22): Maximizar a eficiência energética $\\eta(\\mathbf{p})$ conforme definido na equação (19).\n",
        "- Restrição (22a): A soma das potências dos feixes ativos $p_{k}$ não pode exceder a potência total de transmissão $P_{T}$.\n",
        "- Restrição (22b): Cada potência do feixe $p_{k}$ não pode exceder a potência máxima permitida $P_{f}$.\n",
        "- Restrição (22c): A soma das potências dos feixes ativos $p_{k}$ não pode exceder a potência máxima permitida pelo receptor, considerando as perdas de transmissão $L_{b}$, os ganhos do receptor $g_{s}$ e da unidade remota $g_{b}$."
      ]
    },
    {
      "cell_type": "code",
      "execution_count": null,
      "metadata": {},
      "outputs": [],
      "source": [
        "from scipy.optimize import minimize\n",
        "\n",
        "def objective_function(p, *args):\n",
        "    W, gt, g_ru, L, I_i, I_d, N_0, Pc, rho = args\n",
        "    \n",
        "    # Calcula a soma ponderada das taxas de transmissão de todos os feixes ativos\n",
        "    numerator = sum(W * math.log2(1 + (p[k] * gt * g_ru[k] * L[k]) / (I_i[k] + I_d[k] + N_0 * W)) for k in range(len(p)))\n",
        "    \n",
        "    # Calcula o denominador da eficiência energética\n",
        "    denominator = Pc + (1 / rho) * sum(p)\n",
        "    \n",
        "    # Calcula a eficiência energética como a razão entre o numerador e o denominador\n",
        "    eta = numerator / denominator\n",
        "    \n",
        "    # Otimização do problema: maximizar a eficiência energética (equivalente a minimizar o negativo da função objetivo)\n",
        "    return -eta\n",
        "\n",
        "def constraint1(p, PT):\n",
        "    # Restrição: a soma das potências dos feixes ativos não pode exceder a potência total de transmissão PT\n",
        "    return sum(p) - PT\n",
        "\n",
        "def constraint2(p, Pf):\n",
        "    # Restrição: cada potência do feixe não pode exceder a potência máxima permitida Pf\n",
        "    return [Pf - pk for pk in p]\n",
        "\n",
        "def constraint3(p, Pr, gs, gb, Lb):\n",
        "    # Restrição: a soma das potências dos feixes ativos não pode exceder a potência máxima permitida pelo receptor\n",
        "    return Pr / (gs * gb * Lb) - sum(p)\n",
        "\n",
        "def resolver_problema_otimizacao(W, gt, g_ru, L, I_i, I_d, N_0, Pc, rho, PT, Pf, Pr, gs, gb, Lb):\n",
        "    # Número de feixes ativos\n",
        "    num_feixes = len(gt)\n",
        "    \n",
        "    # Chute inicial: igualmente distribuído entre os feixes ativos\n",
        "    initial_guess = [PT / num_feixes] * num_feixes\n",
        "    \n",
        "    # Definindo as restrições do problema de otimização\n",
        "    constraints = [{'type': 'ineq', 'fun': constraint1, 'args': (PT,)},\n",
        "                   {'type': 'ineq', 'fun': constraint2, 'args': (Pf,)},\n",
        "                   {'type': 'ineq', 'fun': constraint3, 'args': (Pr, gs, gb, Lb)}]\n",
        "    \n",
        "    # Chamada para o otimizador\n",
        "    result = minimize(objective_function, initial_guess, args=(W, gt, g_ru, L, I_i, I_d, N_0, Pc, rho),\n",
        "                      constraints=constraints)\n",
        "    \n",
        "    return result\n"
      ]
    },
    {
      "cell_type": "markdown",
      "metadata": {},
      "source": [
        "\\begin{equation*} \\lambda ^{*} = \\frac {\\tilde {C}(\\mathbf {p}^{*})}{D(\\mathbf {p}^{*})},\\tag{23}\\end{equation*}\n",
        "\n",
        "- $\\lambda^{*}$ representa a eficiência energética máxima alcançável no sistema, que é o máximo da razão entre a capacidade de transmissão total e a potência total consumida pelo sistema, alcançado no ponto ótimo $\\mathbf{p}^{*}$.\n",
        "- $\\tilde{C}(\\mathbf{p}^{*})$ representa a capacidade de transmissão total no ponto ótimo $\\mathbf{p}^{*}$.\n",
        "- $D(\\mathbf{p}^{*})$ representa a potência total consumida pelo sistema no ponto ótimo $\\mathbf{p}^{*}$.\n"
      ]
    },
    {
      "cell_type": "code",
      "execution_count": null,
      "metadata": {},
      "outputs": [],
      "source": [
        "def calcular_lambda_estrela(C_p_estrela, D_p_estrela):\n",
        "    # Calcula lambda* como a razão entre a capacidade de transmissão total e a potência total consumida\n",
        "    lambda_estrela = C_p_estrela / D_p_estrela\n",
        "    return lambda_estrela\n"
      ]
    },
    {
      "cell_type": "markdown",
      "metadata": {},
      "source": [
        "\\begin{equation*} \\tilde {C}(\\mathbf {p}^{*}) = W \\sum \\limits _{k\\in \\mathcal {A}} \\tilde {R}_{k}(\\mathbf {p}^{*}).\\tag{24}\\end{equation*}\n",
        "\n",
        "- $\\tilde{C}(\\mathbf{p}^{*})$ representa a capacidade de transmissão total no ponto ótimo $\\mathbf{p}^{*}$, que é a soma ponderada das taxas de transmissão de todos os feixes ativos.\n",
        "\n",
        "- $\\tilde{R}_{k}(\\mathbf{p}^{*})$ representa a taxa de transmissão do feixe $k$ no ponto ótimo $\\mathbf{p}^{*}$."
      ]
    },
    {
      "cell_type": "code",
      "execution_count": null,
      "metadata": {},
      "outputs": [],
      "source": [
        "def calcular_C_p_estrela(W, R_p_estrela):\n",
        "    # Calcula a capacidade de transmissão total no ponto ótimo p* como a soma ponderada das taxas de transmissão de todos os feixes ativos\n",
        "    C_p_estrela = W * sum(R_p_estrela)\n",
        "    return C_p_estrela\n"
      ]
    },
    {
      "cell_type": "markdown",
      "metadata": {},
      "source": [
        "\\begin{align*} R_{k}(\\mathbf {p})\\geq&f_{1}(\\mathbf {p}) - \\left ({f_{2}(\\mathbf {p}_{0}) - \\nabla ^{T}_{\\mathbf {p}} f_{2}(\\mathbf {p}_{0}) (\\mathbf {p}-\\mathbf {p}_{0}) }\\right) \\\\=&\\tilde {R}_{k}(\\mathbf {p}),\\tag{25}\\end{align*}\n",
        "\n",
        "- $k$: Índice do feixe $k$.\n",
        "- $p$: Vetor de potências dos feixes $\\mathbf{p}$.\n",
        "- $p0$: Vetor de potências dos feixes no ponto $\\mathbf{p}_0$.\n",
        "- $f1$: Função que retorna o valor de $f_1(\\mathbf{p})$.\n",
        "- $f2$: Função que retorna o valor de $f_2(\\mathbf{p})$.\n",
        "- $grad_f2_p0$: Função que retorna o gradiente de $f_2(\\mathbf{p})$ avaliado em $\\mathbf{p}_0$."
      ]
    },
    {
      "cell_type": "code",
      "execution_count": null,
      "metadata": {},
      "outputs": [],
      "source": [
        "def calcular_R_p_til(k, p, p0, f1, f2, grad_f2_p0):\n",
        "    # Calcula f2(p0)\n",
        "    f2_p0 = f2(p0)\n",
        "    \n",
        "    # Calcula o gradiente de f2(p0)\n",
        "    grad_f2_p0_T = grad_f2_p0(p0)\n",
        "    \n",
        "    # Calcula o termo dentro dos parênteses de f2(p0) - grad(f2(p0))^T * (p - p0)\n",
        "    termo_dentro_parenteses = f2_p0 - np.dot(grad_f2_p0_T, p - p0)\n",
        "    \n",
        "    # Calcula f1(p) - (f2(p0) - grad(f2(p0))^T * (p - p0))\n",
        "    tilde_R_k_p = f1(p) - termo_dentro_parenteses\n",
        "    \n",
        "    return tilde_R_k_p\n"
      ]
    },
    {
      "cell_type": "markdown",
      "metadata": {},
      "source": [
        "\\begin{equation*} C(\\mathbf {p}) = \\sum \\limits _{k\\in \\mathcal {A}} W (f_{1} \\left ({\\mathbf {p}}\\right) - f_{2}\\left ({\\mathbf {p}}\\right)),\\tag{26}\\end{equation*}\n",
        "\n",
        "- $p$: Vetor de potências dos feixes $\\mathbf{p}$.\n",
        "- $f1$: Função que retorna o valor de $f_1(\\mathbf{p})$.\n",
        "- $f2$: Função que retorna o valor de $f_2(\\mathbf{p})$.\n",
        "- $W$: Largura de banda do sistema."
      ]
    },
    {
      "cell_type": "code",
      "execution_count": null,
      "metadata": {},
      "outputs": [],
      "source": [
        "def calcular_C_p(p, f1, f2, W):\n",
        "    # Calcula a soma ponderada das diferenças entre f1(p) e f2(p) para todos os feixes ativos\n",
        "    C_p = sum(W * (f1(p_k) - f2(p_k)) for p_k in p)\n",
        "    return C_p"
      ]
    },
    {
      "cell_type": "markdown",
      "metadata": {},
      "source": [
        "\\begin{equation*} f_{1}(\\mathbf {p}) = \\log _{2} \\left ({p_{k} g_{t} g^{ru}_{k} L_{k} + I_{k}^{i} + I_{k}^{d} + N_{0} W }\\right),\\tag{27}\\end{equation*}\n",
        "\n",
        "- $p$: Vetor de potências dos feixes $\\mathbf{p}$.\n",
        "- $g_t$: Ganho de transmissão.\n",
        "- $g_ru$: Lista de ganhos de recepção para cada feixe.\n",
        "- $L$: Lista de perdas de canal para cada feixe.\n",
        "- $I_i$: Lista de interferências internas para cada feixe.\n",
        "- $I_d$: Lista de interferências externas para cada feixe.\n",
        "- $N_0$: Densidade espectral de ruído.\n",
        "- $W$: Largura de banda do sistema."
      ]
    },
    {
      "cell_type": "code",
      "execution_count": null,
      "metadata": {},
      "outputs": [],
      "source": [
        "import numpy as np\n",
        "\n",
        "def calcular_f1(p, g_t, g_ru, L, I_i, I_d, N_0, W):\n",
        "    # Calcula o valor de f1(p) para cada feixe\n",
        "    f1_p = [np.log2(p_k * g_t * g_ru_k * L_k + I_i_k + I_d_k + N_0 * W) for p_k, g_ru_k, L_k, I_i_k, I_d_k in zip(p, g_ru, L, I_i, I_d)]\n",
        "    return f1_p"
      ]
    },
    {
      "cell_type": "markdown",
      "metadata": {},
      "source": [
        "\\begin{equation*} f_{2}(\\mathbf {p}) = \\log _{2} \\left ({I_{k}^{i} + I_{k}^{d} + N_{0} W }\\right).\\tag{28}\\end{equation*}\n",
        "\n",
        "- $I_i$: Lista de interferências internas para cada feixe.\n",
        "- $I_d$: Lista de interferências externas para cada feixe.\n",
        "- $N_0$: Densidade espectral de ruído.\n",
        "- $W$: Largura de banda do sistema."
      ]
    },
    {
      "cell_type": "code",
      "execution_count": null,
      "metadata": {},
      "outputs": [],
      "source": [
        "import numpy as np\n",
        "\n",
        "def calcular_f2(I_i, I_d, N_0, W):\n",
        "    # Calcula o valor de f2(p) para cada feixe\n",
        "    f2_p = [np.log2(I_i_k + I_d_k + N_0 * W) for I_i_k, I_d_k in zip(I_i, I_d)]\n",
        "    return f2_p\n"
      ]
    },
    {
      "cell_type": "markdown",
      "metadata": {},
      "source": [
        "\\begin{align*} &\\max _{\\mathbf {p}} \\tilde {C}(\\mathbf {p}) - \\lambda ^{*} D(\\mathbf {p}), \\tag {29}\\\\ &s.t. \\sum \\limits _{k\\in \\mathcal {A}} p_{k} \\leq P_{T}, \\tag {29a}\\\\ & \\hphantom {s.t. }p_{k} \\leq P_{f}, \\quad \\forall k \\in \\mathcal {A} \\tag {29b}\\\\ & \\hphantom {s.t. }\\sum \\limits _{k\\in \\mathcal {A}} p_{k} \\leq \\frac {P_{r}(p)}{g_{s} g_{b} L_{b}}.\\tag {29c}\\end{align*}\n",
        "\n",
        "- **Objetivo**: Maximizar a função $\\tilde{C}(\\mathbf{p}) - \\lambda^{*} D(\\mathbf{p})$, onde $\\tilde{C}(\\mathbf{p})$ é a capacidade de transmissão total ajustada e $D(\\mathbf{p})$ é a demanda total de potência, e $\\lambda^{*}$ é o multiplicador de Lagrange associado à restrição de potência.\n",
        "\n",
        "- **Variáveis de decisão**: O vetor de potências dos feixes $ \\mathbf{p} = [p_1, p_2, \\dots, p_K] $, onde $ p_k $ é a potência do feixe $ k $.\n",
        "\n",
        "- **Restrições**:\n",
        "    - Restrição de potência total: A soma das potências de todos os feixes não deve exceder a potência total disponível $ P_T $.\n",
        "    - Restrição de potência individual: A potência de cada feixe deve ser menor ou igual à potência máxima permitida $ P_f $.\n",
        "    - Restrição de potência recebida: A soma das potências dos feixes não deve exceder a potência disponível após a consideração dos ganhos do sistema e perdas do canal."
      ]
    },
    {
      "cell_type": "code",
      "execution_count": null,
      "metadata": {},
      "outputs": [],
      "source": [
        "def objective_function(p, C_tilde_p, D_p, lambda_star):\n",
        "    return -(C_tilde_p - lambda_star * D_p)\n",
        "\n",
        "def constraint_total_power(p, PT):\n",
        "    return sum(p) - PT\n",
        "\n",
        "def constraint_individual_power(p, Pf):\n",
        "    return p - Pf\n",
        "\n",
        "def constraint_received_power(p, Pr, gs, gb, Lb):\n",
        "    return sum(p) - Pr / (gs * gb * Lb)\n",
        "\n",
        "def resolver_problema_otimizacao(C_tilde_p, D_p, lambda_star, PT, Pf, Pr, gs, gb, Lb):\n",
        "    initial_guess = [0.5] * len(C_tilde_p)\n",
        "    bounds = [(0, Pf)] * len(C_tilde_p)\n",
        "\n",
        "    constraints = [{'type': 'ineq', 'fun': constraint_total_power, 'args': (PT,)},\n",
        "                   {'type': 'ineq', 'fun': constraint_individual_power, 'args': (Pf,)},\n",
        "                   {'type': 'ineq', 'fun': constraint_received_power, 'args': (Pr, gs, gb, Lb)}]\n",
        "\n",
        "    result = minimize(objective_function, initial_guess, args=(C_tilde_p, D_p, lambda_star),\n",
        "                      bounds=bounds, constraints=constraints)\n",
        "\n",
        "    return result\n",
        "\n",
        "\n",
        "\"\"\"\n",
        "\n",
        "- `objective_function`: Define a função objetivo a ser maximizada.\n",
        "- `constraint_total_power`: Define a restrição de potência total.\n",
        "- `constraint_individual_power`: Define a restrição de potência individual.\n",
        "- `constraint_received_power`: Define a restrição de potência recebida.\n",
        "- `resolver_problema_otimizacao`: Função principal que resolve o problema de otimização\n",
        "\"\"\""
      ]
    },
    {
      "cell_type": "markdown",
      "metadata": {},
      "source": [
        "\\begin{equation*} p_{k} = p_{e}, \\quad \\forall k \\in \\mathcal {A}.\\tag{30}\\end{equation*}\n",
        "\n",
        "Se todos os feixes têm a mesma potência $p_e$, então a restrição pode ser simplificada para $p_k = p_e$ para todo $k$ em $\\mathcal{A}$. Aqui está uma função em Python para implementar essa restrição:\n",
        "\n",
        "Essa função retorna a diferença entre a potência $p$ do feixe e a potência igual $p_e$. Essa diferença deve ser zero para cada feixe ativo."
      ]
    },
    {
      "cell_type": "code",
      "execution_count": null,
      "metadata": {},
      "outputs": [],
      "source": [
        "def constraint_equal_power(p, pe):\n",
        "    return p - pe"
      ]
    },
    {
      "cell_type": "markdown",
      "metadata": {},
      "source": [
        "# ALGORITMO 1\n",
        "\n",
        "1 - set $\\epsilon$, $\\mathbf {L}$, $\\epsilon$ é Tolerância ou critério de convergência do algoritmo, $\\mathbf{L}$ é Conjunto de parâmetros ou variáveis relacionados ao problema.\n",
        "\n",
        "2 - $i=0$\n",
        "\n",
        "3 - $\\mathbf {p}^{(0)}=P_{\\mathrm {eq}}$\n",
        "\n",
        "4 - do\n",
        "\n",
        "5 - $\\mathbf {p}^{(0)}=P_{\\mathrm {eq}}$\n",
        "\n",
        "6 - Beam assignment: find $\\mathbf {x}^{(i)}$ with fixed $\\mathbf {x}^{(i)}~\\triangleright$, apply algorithm 2\n",
        "\n",
        "7 - Power allocation: find $\\mathbf {p}^{(i)} with fixed \\mathbf {x}^{(i)}~\\triangleright$, apply algorithm 3\n",
        "\n",
        "8 - Update: $\\mathbf {p}^{*}=\\mathbf {p}^{(i)}$, $\\mathbf {x}^{*}=\\mathbf {x}^{(i)}$\n",
        "\n",
        "9 - $|\\eta (\\mathbf {x}^{(i)},\\mathbf {p}^{(i)})-\\eta (\\mathbf {x}^{(i-1)},\\mathbf {p}^{(i-1)})| \\geq \\epsilon$\n",
        "\n",
        "10 - Output: $\\mathbf {p}^{*}, \\mathbf {x}^{*}$"
      ]
    },
    {
      "cell_type": "code",
      "execution_count": null,
      "metadata": {},
      "outputs": [],
      "source": [
        "# Algoritmo 1\n",
        "def Algorithm1(epsilon, L, Peq):\n",
        "    i = 0\n",
        "    p_prev = Peq\n",
        "    while True:\n",
        "        p_prev = Peq\n",
        "        x_i = Algorithm2(p_prev)  # Passo 6\n",
        "        p_i = Algorithm3(x_i)     # Passo 7\n",
        "        p_star = p_i               # Passo 8\n",
        "        x_star = x_i\n",
        "        if abs(eta(x_i, p_i) - eta(x_prev, p_prev)) >= epsilon:\n",
        "            break\n",
        "    return p_star, x_star\n"
      ]
    },
    {
      "cell_type": "markdown",
      "metadata": {},
      "source": [
        "# ALGORITMO 2\n",
        "\n",
        "1 -  Initialize: $\\mathbf {Q}$\n",
        "\n",
        "2 - Apply Hungarian Algorithm\n",
        "\n",
        "3 - Output: $\\mathbf {x}^{*}$"
      ]
    },
    {
      "cell_type": "code",
      "execution_count": null,
      "metadata": {},
      "outputs": [],
      "source": [
        "\n",
        "# Algoritmo 2\n",
        "def Algorithm2(p):\n",
        "    Q = None  # Implementar algoritmo húngaro aqui\n",
        "    x_star = None  # Atribuir a solução do algoritmo húngaro\n",
        "    return x_star\n",
        " \n",
        " ##Com algoritmo Húngaro\n",
        "\n",
        "from munkres import Munkres, print_matrix\n",
        "def Algorithm2(p):\n",
        "    m = Munkres()\n",
        "    indexes = m.compute(p)\n",
        "    x_star = indexes  # Atribuir os índices como a solução ótima\n",
        "    return x_star\n"
      ]
    },
    {
      "cell_type": "markdown",
      "metadata": {},
      "source": [
        "\n",
        "1 - Initialization: $\\mathbf {p}_{0}$, Vetor de potências.\n",
        "\n",
        "2 - repeat\n",
        "\n",
        "3 - $\\epsilon > 0, n=0$, $\\lambda _{n}=0$\n",
        "     $\\lambda _{n}=0$: Inicialização dos parâmetros de controle\n",
        "\n",
        "     $\\epsilon$ é a tolerância para convergência, $n$ é o contador de iterações\n",
        "     \n",
        "     $\\lambda_{n}$ é o parâmetro para a função de Lagrange.\n",
        "\n",
        "4 - repeat\n",
        "\n",
        "5 - $\\mathbf {p}^{*} = \\arg \\max \\left\\{{ \\tilde {C}(\\mathbf {p}) - \\lambda _{n} D(\\mathbf {p}): \\sum \\limits _{k\\in \\mathcal {A}} p_{k} \\leq P_{T}, p_{k} \n",
        "\\leq P_{f}, \\forall k\\in \\mathcal {A}, \\sum \\limits _{k\\in \\mathcal {A}} p_{k} \\leq \\frac {P_{r}(p)}{g_{s} g_{b} L_{b}} }\\right\\}$ Dinkelbach’s algorithm\n",
        "\n",
        "6 - $F(\\lambda _{n}) = \\tilde {C}(\\mathbf {p}^{*}) - \\lambda _{n} D(\\mathbf {p}^{*})$\n",
        "\n",
        "7 - $\\lambda _{n+1}=\\frac {\\tilde {C}(\\mathbf {p}^{*})}{D(\\mathbf {p}^{*})}$\n",
        "\n",
        "8 - $n=n+1$\n",
        "\n",
        "9 - until $F(\\lambda _{n}) < \\epsilon$\n",
        "\n",
        "10 - $\\mathbf {p}_{0} = \\mathbf {p}^{*}$\n",
        "\n",
        "11 - Until convergence"
      ]
    },
    {
      "cell_type": "code",
      "execution_count": null,
      "metadata": {},
      "outputs": [],
      "source": [
        "# Algoritmo 3\n",
        "def Algorithm3(x):\n",
        "    p_0 = None  # Inicializar p_0\n",
        "    while True:\n",
        "        epsilon = 0\n",
        "        n = 0\n",
        "        lambda_n = 0\n",
        "        while True:\n",
        "            p_star = None  # Implementar Dinkelbach's algorithm\n",
        "            F_lambda_n = C_tilde(p_star) - lambda_n * D(p_star)\n",
        "            lambda_n_plus_1 = C_tilde(p_star) / D(p_star)\n",
        "            n += 1\n",
        "            if F_lambda_n < epsilon:\n",
        "                break\n",
        "        if np.linalg.norm(np.array(p_0) - np.array(p_star)) < epsilon:\n",
        "            break\n",
        "        p_0 = p_star\n",
        "    return p_0"
      ]
    }
  ],
  "metadata": {
    "colab": {
      "provenance": []
    },
    "kernelspec": {
      "display_name": "Python 3",
      "name": "python3"
    },
    "language_info": {
      "name": "python"
    }
  },
  "nbformat": 4,
  "nbformat_minor": 0
}
